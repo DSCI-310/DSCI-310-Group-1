{
 "cells": [
  {
   "cell_type": "markdown",
   "id": "13b76110",
   "metadata": {},
   "source": [
    "# Results"
   ]
  },
  {
   "cell_type": "code",
   "execution_count": 1,
   "id": "17f48afa-6084-43c8-a3e0-bd71445161ff",
   "metadata": {},
   "outputs": [],
   "source": [
    "import pandas as pd"
   ]
  },
  {
   "cell_type": "markdown",
   "id": "d9897047-dac3-49f2-aa16-f2db451635e6",
   "metadata": {},
   "source": [
    "Now that we have our best performing hyperparameter, we can pass in the best param into our model. Then we can train that model on the entire training set and evaluate it on our testing set."
   ]
  },
  {
   "cell_type": "code",
   "execution_count": 3,
   "id": "a4288a31-d8b9-46e5-b875-eeb1a244afce",
   "metadata": {},
   "outputs": [
    {
     "data": {
      "text/html": [
       "<div>\n",
       "<style scoped>\n",
       "    .dataframe tbody tr th:only-of-type {\n",
       "        vertical-align: middle;\n",
       "    }\n",
       "\n",
       "    .dataframe tbody tr th {\n",
       "        vertical-align: top;\n",
       "    }\n",
       "\n",
       "    .dataframe thead th {\n",
       "        text-align: right;\n",
       "    }\n",
       "</style>\n",
       "<table border=\"1\" class=\"dataframe\">\n",
       "  <thead>\n",
       "    <tr style=\"text-align: right;\">\n",
       "      <th></th>\n",
       "      <th>Unnamed: 0</th>\n",
       "      <th>mean_fit_time</th>\n",
       "      <th>std_fit_time</th>\n",
       "      <th>param_ridge__alpha</th>\n",
       "      <th>params</th>\n",
       "      <th>mean_test_score</th>\n",
       "      <th>std_test_score</th>\n",
       "      <th>rank_test_score</th>\n",
       "      <th>final score</th>\n",
       "    </tr>\n",
       "  </thead>\n",
       "  <tbody>\n",
       "    <tr>\n",
       "      <th>0</th>\n",
       "      <td>8</td>\n",
       "      <td>0.018578</td>\n",
       "      <td>0.001218</td>\n",
       "      <td>14.169508</td>\n",
       "      <td>{'ridge__alpha': 14.1695082925079}</td>\n",
       "      <td>-4.615479</td>\n",
       "      <td>0.298376</td>\n",
       "      <td>1</td>\n",
       "      <td>-3.834295</td>\n",
       "    </tr>\n",
       "  </tbody>\n",
       "</table>\n",
       "</div>"
      ],
      "text/plain": [
       "   Unnamed: 0  mean_fit_time  std_fit_time  param_ridge__alpha  \\\n",
       "0           8       0.018578      0.001218           14.169508   \n",
       "\n",
       "                               params  mean_test_score  std_test_score  \\\n",
       "0  {'ridge__alpha': 14.1695082925079}        -4.615479        0.298376   \n",
       "\n",
       "   rank_test_score  final score  \n",
       "0                1    -3.834295  "
      ]
     },
     "execution_count": 3,
     "metadata": {},
     "output_type": "execute_result"
    }
   ],
   "source": [
    "pd.read_csv('../results/finaltable.csv', sep = \";\")"
   ]
  },
  {
   "cell_type": "markdown",
   "id": "872696cb-8022-4925-8038-f52851469a0a",
   "metadata": {},
   "source": [
    "According to our best model, our RMSE is [3.83] which is better than the value we obtained from cross validation. This suggests one of two things:\n",
    "1. Our model generalized well on this new dataset, or \n",
    "2. We happened to be lucky for the test set and the model wont generalize well to other datasets in practice."
   ]
  },
  {
   "cell_type": "markdown",
   "id": "f87efcc8-88f7-42c1-97c4-de2314011681",
   "metadata": {},
   "source": [
    ":::{figure-md} relation-fig\n",
    "<img src=\"../results/figures/predvsfinal.png\" alt=\"cat\" class=\"bg-primary mb-1\" width=\"400px\">\n",
    "\n",
    "A plot displaying the relation between the predicted grade and the actual grade\n",
    ":::"
   ]
  },
  {
   "cell_type": "markdown",
   "id": "785170ba-d2a9-48d8-af27-595f19490537",
   "metadata": {},
   "source": [
    "The regression graph {numref}`relation-fig` shows that we predict roughly the same values no matter what the true grade of the student happens to be. Only at the very high true grades do we see the predictions start to increase, albeit marginally. The range at low values is a bit larger at about 5-12.5 while at high true grades, it is about 8-13."
   ]
  },
  {
   "cell_type": "markdown",
   "id": "3a5fb732-021a-49bb-a49b-b4d807d46754",
   "metadata": {},
   "source": [
    "Looking at what feature make the most impact in predicting high true grades, we see that the mother has a very large impact on the predicted grades. Depending on the mother's job, it can positively influence the final grade or it can negatively impact it. We also see that being in a romantic relationship seems to be the most impactful at predicting lower grades. Interestingly, study time isn't the most influential part feature despite intuition telling us that with higher study time, we would except to get higher grades."
   ]
  },
  {
   "cell_type": "code",
   "execution_count": 6,
   "id": "b3f76894-9275-4b67-afad-94c8e1ec7b13",
   "metadata": {},
   "outputs": [
    {
     "data": {
      "text/html": [
       "<div>\n",
       "<style scoped>\n",
       "    .dataframe tbody tr th:only-of-type {\n",
       "        vertical-align: middle;\n",
       "    }\n",
       "\n",
       "    .dataframe tbody tr th {\n",
       "        vertical-align: top;\n",
       "    }\n",
       "\n",
       "    .dataframe thead th {\n",
       "        text-align: right;\n",
       "    }\n",
       "</style>\n",
       "<table border=\"1\" class=\"dataframe\">\n",
       "  <thead>\n",
       "    <tr style=\"text-align: right;\">\n",
       "      <th></th>\n",
       "      <th>Unnamed: 0</th>\n",
       "      <th>features</th>\n",
       "      <th>coefficients</th>\n",
       "    </tr>\n",
       "  </thead>\n",
       "  <tbody>\n",
       "    <tr>\n",
       "      <th>0</th>\n",
       "      <td>1</td>\n",
       "      <td>Medu</td>\n",
       "      <td>0.871048</td>\n",
       "    </tr>\n",
       "    <tr>\n",
       "      <th>1</th>\n",
       "      <td>6</td>\n",
       "      <td>Mjob_health</td>\n",
       "      <td>0.783865</td>\n",
       "    </tr>\n",
       "    <tr>\n",
       "      <th>2</th>\n",
       "      <td>14</td>\n",
       "      <td>Fjob_teacher</td>\n",
       "      <td>0.684833</td>\n",
       "    </tr>\n",
       "    <tr>\n",
       "      <th>3</th>\n",
       "      <td>8</td>\n",
       "      <td>Mjob_services</td>\n",
       "      <td>0.449528</td>\n",
       "    </tr>\n",
       "    <tr>\n",
       "      <th>4</th>\n",
       "      <td>0</td>\n",
       "      <td>studytime</td>\n",
       "      <td>0.312556</td>\n",
       "    </tr>\n",
       "    <tr>\n",
       "      <th>5</th>\n",
       "      <td>2</td>\n",
       "      <td>Fedu</td>\n",
       "      <td>0.146562</td>\n",
       "    </tr>\n",
       "    <tr>\n",
       "      <th>6</th>\n",
       "      <td>11</td>\n",
       "      <td>Fjob_health</td>\n",
       "      <td>-0.066799</td>\n",
       "    </tr>\n",
       "    <tr>\n",
       "      <th>7</th>\n",
       "      <td>13</td>\n",
       "      <td>Fjob_services</td>\n",
       "      <td>-0.147888</td>\n",
       "    </tr>\n",
       "    <tr>\n",
       "      <th>8</th>\n",
       "      <td>10</td>\n",
       "      <td>Fjob_at_home</td>\n",
       "      <td>-0.209156</td>\n",
       "    </tr>\n",
       "    <tr>\n",
       "      <th>9</th>\n",
       "      <td>4</td>\n",
       "      <td>traveltime</td>\n",
       "      <td>-0.229963</td>\n",
       "    </tr>\n",
       "    <tr>\n",
       "      <th>10</th>\n",
       "      <td>12</td>\n",
       "      <td>Fjob_other</td>\n",
       "      <td>-0.260990</td>\n",
       "    </tr>\n",
       "    <tr>\n",
       "      <th>11</th>\n",
       "      <td>7</td>\n",
       "      <td>Mjob_other</td>\n",
       "      <td>-0.298394</td>\n",
       "    </tr>\n",
       "    <tr>\n",
       "      <th>12</th>\n",
       "      <td>9</td>\n",
       "      <td>Mjob_teacher</td>\n",
       "      <td>-0.410360</td>\n",
       "    </tr>\n",
       "    <tr>\n",
       "      <th>13</th>\n",
       "      <td>15</td>\n",
       "      <td>Pstatus_T</td>\n",
       "      <td>-0.520461</td>\n",
       "    </tr>\n",
       "    <tr>\n",
       "      <th>14</th>\n",
       "      <td>5</td>\n",
       "      <td>Mjob_at_home</td>\n",
       "      <td>-0.524639</td>\n",
       "    </tr>\n",
       "    <tr>\n",
       "      <th>15</th>\n",
       "      <td>3</td>\n",
       "      <td>goout</td>\n",
       "      <td>-0.613642</td>\n",
       "    </tr>\n",
       "    <tr>\n",
       "      <th>16</th>\n",
       "      <td>16</td>\n",
       "      <td>romantic_yes</td>\n",
       "      <td>-1.244385</td>\n",
       "    </tr>\n",
       "  </tbody>\n",
       "</table>\n",
       "</div>"
      ],
      "text/plain": [
       "    Unnamed: 0       features  coefficients\n",
       "0            1           Medu      0.871048\n",
       "1            6    Mjob_health      0.783865\n",
       "2           14   Fjob_teacher      0.684833\n",
       "3            8  Mjob_services      0.449528\n",
       "4            0      studytime      0.312556\n",
       "5            2           Fedu      0.146562\n",
       "6           11    Fjob_health     -0.066799\n",
       "7           13  Fjob_services     -0.147888\n",
       "8           10   Fjob_at_home     -0.209156\n",
       "9            4     traveltime     -0.229963\n",
       "10          12     Fjob_other     -0.260990\n",
       "11           7     Mjob_other     -0.298394\n",
       "12           9   Mjob_teacher     -0.410360\n",
       "13          15      Pstatus_T     -0.520461\n",
       "14           5   Mjob_at_home     -0.524639\n",
       "15           3          goout     -0.613642\n",
       "16          16   romantic_yes     -1.244385"
      ]
     },
     "execution_count": 6,
     "metadata": {},
     "output_type": "execute_result"
    }
   ],
   "source": [
    "pd.read_csv('../results/coeff-table.csv', sep = \";\").sort_values(\"coefficients\", ascending=False)"
   ]
  },
  {
   "cell_type": "code",
   "execution_count": null,
   "id": "a7acb118-4ba2-4d82-b7bb-af733558c20f",
   "metadata": {},
   "outputs": [],
   "source": []
  }
 ],
 "metadata": {
  "kernelspec": {
   "display_name": "Python 3 (ipykernel)",
   "language": "python",
   "name": "python3"
  },
  "language_info": {
   "codemirror_mode": {
    "name": "ipython",
    "version": 3
   },
   "file_extension": ".py",
   "mimetype": "text/x-python",
   "name": "python",
   "nbconvert_exporter": "python",
   "pygments_lexer": "ipython3",
   "version": "3.7.10"
  }
 },
 "nbformat": 4,
 "nbformat_minor": 5
}
