import pandas as pd
pd.set_option("display.max_rows", 15, "display.max_columns", None)


pd.read_csv('../data/raw/student-mat.csv', sep = ";").iloc[:,1:]


exploratory = pd.read_csv('../results/exploratory-stu-mat.csv', sep = ",")
exploratory.columns.values[0] = "Property"

exploratory.style.set_caption("Table 1. Common values of each categorical variable with percentiles of numerical variables")
