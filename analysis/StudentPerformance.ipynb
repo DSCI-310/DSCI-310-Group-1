{
 "cells": [
  {
   "cell_type": "markdown",
   "id": "e1e61a74-79e1-439e-8e62-1c98dd1e97c5",
   "metadata": {},
   "source": [
    "# Predicting Final Grade"
   ]
  },
  {
   "cell_type": "code",
   "execution_count": 1,
   "id": "90ea09ad-042f-402f-8c02-0cbd49a47706",
   "metadata": {},
   "outputs": [],
   "source": [
    "import sys\n",
    "sys.path.append('..'),\n",
    "from src import splitxy\n",
    "from src import listfun\n",
    "from src import plotSquareData\n",
    "\n",
    "import matplotlib.pyplot as plt\n",
    "import numpy as np\n",
    "import pandas as pd\n",
    "from sklearn import datasets\n",
    "from sklearn.compose import make_column_transformer\n",
    "from sklearn.linear_model import LinearRegression, Ridge\n",
    "from sklearn.model_selection import (\n",
    "    cross_validate,\n",
    "    train_test_split,\n",
    "    RandomizedSearchCV\n",
    ")\n",
    "from sklearn.metrics import mean_squared_error\n",
    "from sklearn.pipeline import Pipeline, make_pipeline\n",
    "from sklearn.preprocessing import OneHotEncoder, OrdinalEncoder, StandardScaler\n",
    "from sklearn.impute import SimpleImputer\n",
    "import urllib.request\n",
    "import zipfile"
   ]
  },
  {
   "cell_type": "markdown",
   "id": "2601e5c0-0dc5-4689-aad5-c2112b2d61e5",
   "metadata": {},
   "source": [
    "## Introduction"
   ]
  },
  {
   "cell_type": "markdown",
   "id": "3e4d66a3-2685-49d2-aadc-2674497d689a",
   "metadata": {},
   "source": [
    "Education remains one of the most vital and fundamental resources in the world. There is an active body of research that works to explore the relation between education and other societal factors such as economic growth where current research suggests that better education lends itself to better economic growth, and perhaps more importantly for individuals, a higher individual income (Roser & Ortiz-Ospina, 2016). \n",
    "\n",
    "There are many other reasons why people may care about their grade besides raw income. A student may want to get into a prestigious university where the entrance requirement is very high (of course, the underlying motivation could be income, but the current motivation is a top university). Alternatively, it may be as simple as getting the satisfaction of seeing a high mark on your report card. Being able to accurately predict your grade allows you to plan in advance to determine if you need extra assistance in a particular subject, or if you are currently on track to meet or exceed the grade you desire. Unfortunately, this is not an easy task. There are many potential factors that can affect your performance, and given that each student has their own unique circumstances, this makes the task of predicting monumental. On the other hand, there are also many features that are common among students, and helps serve as a common ground in being able to predict your final grade.\n",
    "\n",
    "For this project, we're conducting a multi-variable regression analysis on the *Student Performance* dataset. The original dataset, which was recorded on the UCI ML Repo (see citation), was split into two individual datasets, respectively with students' final grades in Portuguese and Math. For this project, we're only focusing on the Math dataset. First used in 2008 by Cortez and Silva, this dataset was collected for use in decision trees, neural networks, SVMs and Random Forest. The dataset has an very large number of potentially useful features. There are 30 features and 3 outputs; however, for the purposes of this analysis, we will only focus on 9 features with varying levels of intuitive correlation with the final end of year grade G3, mostly consisting of social factors. For instance, the feature \"study time\", at a glance, seems like there will be a positive correlation with final grade while the feature \"romantic\" is not as straightforward to tell. \n",
    "\n",
    "The dataset we will be using contains the following features (the type of feature is given by the UCI ML Repo):\n",
    " * study time: The number of hours spend studying per week. It is a numeric feature where each number is associated with a range of hours spent studying (numeric: 1 - <2 hours, 2 - 2 to 5 hours, 3 - 5 to 10 hours, or 4 - >10 hours).\n",
    " * Pstatus: Whether the parents of the student are currently living together or seperated (Binary feature: T = living together, A = apart)\n",
    " * Medu: Numeric representations of the mother's education level  (numeric: 0 - none, 1 - primary education (4th grade), 2 - 5th to 9th grade, 3 - secondary education or 4 - higher education)\n",
    " * Fedu: Numeric representations of the father's education level  (numeric: 0 - none, 1 - primary education (4th grade), 2 - 5th to 9th grade, 3 - secondary education or 4 - higher education)\n",
    " * Mjob: The mother's job (Categorical: 'teacher', 'health' care related, civil 'services' (e.g. administrative or police), 'at_home' or 'other')\n",
    " * Fjob: The father's job (Categorical: 'teacher', 'health' care related, civil 'services' (e.g. administrative or police), 'at_home' or 'other')\n",
    " * goout: A representation of how often the student goes out with friends (numeric: from 1 - very low to 5 - very high)\n",
    " * travel time: how long it takes to get to school (numeric: 1 - <15 min., 2 - 15 to 30 min., 3 - 30 min. to 1 hour, or 4 - >1 hour)\n",
    " * romantic: Whether or not the student is in a romantic relationship (Binary: yes and no)\n",
    " * G3: The final grade of the student at the end of the year represented by a 0-20 scale (numeric: from 0-20 where 0 represents 0-5% and 20 represents 95-100%)\n",
    " \n",
    "Thus, we are interested in looking to answer the following question: **Can we predict a student's final grade (denoted by \"G3\" in the dataset) given the above features**.\n"
   ]
  },
  {
   "cell_type": "markdown",
   "id": "f069f189-bbd3-4b61-a609-68e3760a5845",
   "metadata": {},
   "source": [
    "## Exploratory Data Analysis"
   ]
  },
  {
   "cell_type": "code",
   "execution_count": 2,
   "id": "ffd8f679-a282-4174-a8c0-4602ac3cbe96",
   "metadata": {},
   "outputs": [
    {
     "data": {
      "text/html": [
       "<div>\n",
       "<style scoped>\n",
       "    .dataframe tbody tr th:only-of-type {\n",
       "        vertical-align: middle;\n",
       "    }\n",
       "\n",
       "    .dataframe tbody tr th {\n",
       "        vertical-align: top;\n",
       "    }\n",
       "\n",
       "    .dataframe thead th {\n",
       "        text-align: right;\n",
       "    }\n",
       "</style>\n",
       "<table border=\"1\" class=\"dataframe\">\n",
       "  <thead>\n",
       "    <tr style=\"text-align: right;\">\n",
       "      <th></th>\n",
       "      <th>school</th>\n",
       "      <th>sex</th>\n",
       "      <th>age</th>\n",
       "      <th>address</th>\n",
       "      <th>famsize</th>\n",
       "      <th>Pstatus</th>\n",
       "      <th>Medu</th>\n",
       "      <th>Fedu</th>\n",
       "      <th>Mjob</th>\n",
       "      <th>Fjob</th>\n",
       "      <th>reason</th>\n",
       "      <th>guardian</th>\n",
       "      <th>traveltime</th>\n",
       "      <th>studytime</th>\n",
       "      <th>failures</th>\n",
       "      <th>schoolsup</th>\n",
       "      <th>famsup</th>\n",
       "      <th>paid</th>\n",
       "      <th>activities</th>\n",
       "      <th>nursery</th>\n",
       "      <th>higher</th>\n",
       "      <th>internet</th>\n",
       "      <th>romantic</th>\n",
       "      <th>famrel</th>\n",
       "      <th>freetime</th>\n",
       "      <th>goout</th>\n",
       "      <th>Dalc</th>\n",
       "      <th>Walc</th>\n",
       "      <th>health</th>\n",
       "      <th>absences</th>\n",
       "      <th>G1</th>\n",
       "      <th>G2</th>\n",
       "      <th>G3</th>\n",
       "    </tr>\n",
       "  </thead>\n",
       "  <tbody>\n",
       "    <tr>\n",
       "      <th>0</th>\n",
       "      <td>GP</td>\n",
       "      <td>F</td>\n",
       "      <td>18</td>\n",
       "      <td>U</td>\n",
       "      <td>GT3</td>\n",
       "      <td>A</td>\n",
       "      <td>4</td>\n",
       "      <td>4</td>\n",
       "      <td>at_home</td>\n",
       "      <td>teacher</td>\n",
       "      <td>course</td>\n",
       "      <td>mother</td>\n",
       "      <td>2</td>\n",
       "      <td>2</td>\n",
       "      <td>0</td>\n",
       "      <td>yes</td>\n",
       "      <td>no</td>\n",
       "      <td>no</td>\n",
       "      <td>no</td>\n",
       "      <td>yes</td>\n",
       "      <td>yes</td>\n",
       "      <td>no</td>\n",
       "      <td>no</td>\n",
       "      <td>4</td>\n",
       "      <td>3</td>\n",
       "      <td>4</td>\n",
       "      <td>1</td>\n",
       "      <td>1</td>\n",
       "      <td>3</td>\n",
       "      <td>6</td>\n",
       "      <td>5</td>\n",
       "      <td>6</td>\n",
       "      <td>6</td>\n",
       "    </tr>\n",
       "    <tr>\n",
       "      <th>1</th>\n",
       "      <td>GP</td>\n",
       "      <td>F</td>\n",
       "      <td>17</td>\n",
       "      <td>U</td>\n",
       "      <td>GT3</td>\n",
       "      <td>T</td>\n",
       "      <td>1</td>\n",
       "      <td>1</td>\n",
       "      <td>at_home</td>\n",
       "      <td>other</td>\n",
       "      <td>course</td>\n",
       "      <td>father</td>\n",
       "      <td>1</td>\n",
       "      <td>2</td>\n",
       "      <td>0</td>\n",
       "      <td>no</td>\n",
       "      <td>yes</td>\n",
       "      <td>no</td>\n",
       "      <td>no</td>\n",
       "      <td>no</td>\n",
       "      <td>yes</td>\n",
       "      <td>yes</td>\n",
       "      <td>no</td>\n",
       "      <td>5</td>\n",
       "      <td>3</td>\n",
       "      <td>3</td>\n",
       "      <td>1</td>\n",
       "      <td>1</td>\n",
       "      <td>3</td>\n",
       "      <td>4</td>\n",
       "      <td>5</td>\n",
       "      <td>5</td>\n",
       "      <td>6</td>\n",
       "    </tr>\n",
       "    <tr>\n",
       "      <th>2</th>\n",
       "      <td>GP</td>\n",
       "      <td>F</td>\n",
       "      <td>15</td>\n",
       "      <td>U</td>\n",
       "      <td>LE3</td>\n",
       "      <td>T</td>\n",
       "      <td>1</td>\n",
       "      <td>1</td>\n",
       "      <td>at_home</td>\n",
       "      <td>other</td>\n",
       "      <td>other</td>\n",
       "      <td>mother</td>\n",
       "      <td>1</td>\n",
       "      <td>2</td>\n",
       "      <td>3</td>\n",
       "      <td>yes</td>\n",
       "      <td>no</td>\n",
       "      <td>yes</td>\n",
       "      <td>no</td>\n",
       "      <td>yes</td>\n",
       "      <td>yes</td>\n",
       "      <td>yes</td>\n",
       "      <td>no</td>\n",
       "      <td>4</td>\n",
       "      <td>3</td>\n",
       "      <td>2</td>\n",
       "      <td>2</td>\n",
       "      <td>3</td>\n",
       "      <td>3</td>\n",
       "      <td>10</td>\n",
       "      <td>7</td>\n",
       "      <td>8</td>\n",
       "      <td>10</td>\n",
       "    </tr>\n",
       "    <tr>\n",
       "      <th>3</th>\n",
       "      <td>GP</td>\n",
       "      <td>F</td>\n",
       "      <td>15</td>\n",
       "      <td>U</td>\n",
       "      <td>GT3</td>\n",
       "      <td>T</td>\n",
       "      <td>4</td>\n",
       "      <td>2</td>\n",
       "      <td>health</td>\n",
       "      <td>services</td>\n",
       "      <td>home</td>\n",
       "      <td>mother</td>\n",
       "      <td>1</td>\n",
       "      <td>3</td>\n",
       "      <td>0</td>\n",
       "      <td>no</td>\n",
       "      <td>yes</td>\n",
       "      <td>yes</td>\n",
       "      <td>yes</td>\n",
       "      <td>yes</td>\n",
       "      <td>yes</td>\n",
       "      <td>yes</td>\n",
       "      <td>yes</td>\n",
       "      <td>3</td>\n",
       "      <td>2</td>\n",
       "      <td>2</td>\n",
       "      <td>1</td>\n",
       "      <td>1</td>\n",
       "      <td>5</td>\n",
       "      <td>2</td>\n",
       "      <td>15</td>\n",
       "      <td>14</td>\n",
       "      <td>15</td>\n",
       "    </tr>\n",
       "    <tr>\n",
       "      <th>4</th>\n",
       "      <td>GP</td>\n",
       "      <td>F</td>\n",
       "      <td>16</td>\n",
       "      <td>U</td>\n",
       "      <td>GT3</td>\n",
       "      <td>T</td>\n",
       "      <td>3</td>\n",
       "      <td>3</td>\n",
       "      <td>other</td>\n",
       "      <td>other</td>\n",
       "      <td>home</td>\n",
       "      <td>father</td>\n",
       "      <td>1</td>\n",
       "      <td>2</td>\n",
       "      <td>0</td>\n",
       "      <td>no</td>\n",
       "      <td>yes</td>\n",
       "      <td>yes</td>\n",
       "      <td>no</td>\n",
       "      <td>yes</td>\n",
       "      <td>yes</td>\n",
       "      <td>no</td>\n",
       "      <td>no</td>\n",
       "      <td>4</td>\n",
       "      <td>3</td>\n",
       "      <td>2</td>\n",
       "      <td>1</td>\n",
       "      <td>2</td>\n",
       "      <td>5</td>\n",
       "      <td>4</td>\n",
       "      <td>6</td>\n",
       "      <td>10</td>\n",
       "      <td>10</td>\n",
       "    </tr>\n",
       "  </tbody>\n",
       "</table>\n",
       "</div>"
      ],
      "text/plain": [
       "  school sex  age address famsize Pstatus  Medu  Fedu     Mjob      Fjob  \\\n",
       "0     GP   F   18       U     GT3       A     4     4  at_home   teacher   \n",
       "1     GP   F   17       U     GT3       T     1     1  at_home     other   \n",
       "2     GP   F   15       U     LE3       T     1     1  at_home     other   \n",
       "3     GP   F   15       U     GT3       T     4     2   health  services   \n",
       "4     GP   F   16       U     GT3       T     3     3    other     other   \n",
       "\n",
       "   reason guardian  traveltime  studytime  failures schoolsup famsup paid  \\\n",
       "0  course   mother           2          2         0       yes     no   no   \n",
       "1  course   father           1          2         0        no    yes   no   \n",
       "2   other   mother           1          2         3       yes     no  yes   \n",
       "3    home   mother           1          3         0        no    yes  yes   \n",
       "4    home   father           1          2         0        no    yes  yes   \n",
       "\n",
       "  activities nursery higher internet romantic  famrel  freetime  goout  Dalc  \\\n",
       "0         no     yes    yes       no       no       4         3      4     1   \n",
       "1         no      no    yes      yes       no       5         3      3     1   \n",
       "2         no     yes    yes      yes       no       4         3      2     2   \n",
       "3        yes     yes    yes      yes      yes       3         2      2     1   \n",
       "4         no     yes    yes       no       no       4         3      2     1   \n",
       "\n",
       "   Walc  health  absences  G1  G2  G3  \n",
       "0     1       3         6   5   6   6  \n",
       "1     1       3         4   5   5   6  \n",
       "2     3       3        10   7   8  10  \n",
       "3     1       5         2  15  14  15  \n",
       "4     2       5         4   6  10  10  "
      ]
     },
     "execution_count": 2,
     "metadata": {},
     "output_type": "execute_result"
    }
   ],
   "source": [
    "#inspiration for learning how to download from web taken from https://stackoverflow.com/questions/41218216/using-pandas-to-download-load-zipped-csv-file-from-url\n",
    "URL = 'https://archive.ics.uci.edu/ml/machine-learning-databases/00320/student.zip'\n",
    "location, _ = urllib.request.urlretrieve(URL)\n",
    "compressed_file = zipfile.ZipFile(location)\n",
    "csv_file = compressed_file.open('student-mat.csv')\n",
    "df = pd.read_csv(csv_file,sep = \";\")\n",
    "pd.set_option(\"display.max_rows\", 10, \"display.max_columns\", None)\n",
    "df.head()"
   ]
  },
  {
   "cell_type": "code",
   "execution_count": 3,
   "id": "e0eb4ede-8cf8-44f6-a70c-3c666dcc907d",
   "metadata": {},
   "outputs": [],
   "source": [
    "#save a copy of the dataframe \n",
    "df.to_csv('../data/raw/student-mat.csv', index=False)"
   ]
  },
  {
   "cell_type": "code",
   "execution_count": 4,
   "id": "080828d1-243b-4aad-9af3-88f3077363ce",
   "metadata": {},
   "outputs": [],
   "source": [
    "train_df, test_df = train_test_split(df, test_size = 0.2, random_state=100)\n",
    "\n",
    "#make training and testing split\n",
    "desiredfeatures = [\"studytime\", \"Pstatus\", \"Medu\", \"Fedu\", \"Mjob\", \"Fjob\", \"goout\",\"romantic\",\"traveltime\"]\n",
    "X_train, y_train = splitxy.splitxy(train_df, desiredfeatures, \"G3\")\n",
    "X_test, y_test = splitxy.splitxy(test_df, desiredfeatures, \"G3\")"
   ]
  },
  {
   "cell_type": "markdown",
   "id": "655953f2-d381-4158-91ab-afa40567d5f6",
   "metadata": {},
   "source": [
    "We decided on a train test split of 80% training and 20% testing. This was because the number of samples in the dataset where moderately low (396) so we wanted more samples to train on. "
   ]
  },
  {
   "cell_type": "code",
   "execution_count": 5,
   "id": "fe66450d-232c-4fae-a56f-d391e87f70c8",
   "metadata": {},
   "outputs": [
    {
     "data": {
      "text/html": [
       "<style type=\"text/css\">\n",
       "</style>\n",
       "<table id=\"T_76276_\">\n",
       "  <caption>Figure 1.0. A table desplaying the most common values of each categorical variable along side percentiles of numerical variables</caption>\n",
       "  <thead>\n",
       "    <tr>\n",
       "      <th class=\"blank level0\" >&nbsp;</th>\n",
       "      <th class=\"col_heading level0 col0\" >studytime</th>\n",
       "      <th class=\"col_heading level0 col1\" >Pstatus</th>\n",
       "      <th class=\"col_heading level0 col2\" >Medu</th>\n",
       "      <th class=\"col_heading level0 col3\" >Fedu</th>\n",
       "      <th class=\"col_heading level0 col4\" >Mjob</th>\n",
       "      <th class=\"col_heading level0 col5\" >Fjob</th>\n",
       "      <th class=\"col_heading level0 col6\" >goout</th>\n",
       "      <th class=\"col_heading level0 col7\" >romantic</th>\n",
       "      <th class=\"col_heading level0 col8\" >traveltime</th>\n",
       "    </tr>\n",
       "  </thead>\n",
       "  <tbody>\n",
       "    <tr>\n",
       "      <th id=\"T_76276_level0_row0\" class=\"row_heading level0 row0\" >count</th>\n",
       "      <td id=\"T_76276_row0_col0\" class=\"data row0 col0\" >316.000000</td>\n",
       "      <td id=\"T_76276_row0_col1\" class=\"data row0 col1\" >316</td>\n",
       "      <td id=\"T_76276_row0_col2\" class=\"data row0 col2\" >316.000000</td>\n",
       "      <td id=\"T_76276_row0_col3\" class=\"data row0 col3\" >316.000000</td>\n",
       "      <td id=\"T_76276_row0_col4\" class=\"data row0 col4\" >316</td>\n",
       "      <td id=\"T_76276_row0_col5\" class=\"data row0 col5\" >316</td>\n",
       "      <td id=\"T_76276_row0_col6\" class=\"data row0 col6\" >316.000000</td>\n",
       "      <td id=\"T_76276_row0_col7\" class=\"data row0 col7\" >316</td>\n",
       "      <td id=\"T_76276_row0_col8\" class=\"data row0 col8\" >316.000000</td>\n",
       "    </tr>\n",
       "    <tr>\n",
       "      <th id=\"T_76276_level0_row1\" class=\"row_heading level0 row1\" >unique</th>\n",
       "      <td id=\"T_76276_row1_col0\" class=\"data row1 col0\" >nan</td>\n",
       "      <td id=\"T_76276_row1_col1\" class=\"data row1 col1\" >2</td>\n",
       "      <td id=\"T_76276_row1_col2\" class=\"data row1 col2\" >nan</td>\n",
       "      <td id=\"T_76276_row1_col3\" class=\"data row1 col3\" >nan</td>\n",
       "      <td id=\"T_76276_row1_col4\" class=\"data row1 col4\" >5</td>\n",
       "      <td id=\"T_76276_row1_col5\" class=\"data row1 col5\" >5</td>\n",
       "      <td id=\"T_76276_row1_col6\" class=\"data row1 col6\" >nan</td>\n",
       "      <td id=\"T_76276_row1_col7\" class=\"data row1 col7\" >2</td>\n",
       "      <td id=\"T_76276_row1_col8\" class=\"data row1 col8\" >nan</td>\n",
       "    </tr>\n",
       "    <tr>\n",
       "      <th id=\"T_76276_level0_row2\" class=\"row_heading level0 row2\" >top</th>\n",
       "      <td id=\"T_76276_row2_col0\" class=\"data row2 col0\" >nan</td>\n",
       "      <td id=\"T_76276_row2_col1\" class=\"data row2 col1\" >T</td>\n",
       "      <td id=\"T_76276_row2_col2\" class=\"data row2 col2\" >nan</td>\n",
       "      <td id=\"T_76276_row2_col3\" class=\"data row2 col3\" >nan</td>\n",
       "      <td id=\"T_76276_row2_col4\" class=\"data row2 col4\" >other</td>\n",
       "      <td id=\"T_76276_row2_col5\" class=\"data row2 col5\" >other</td>\n",
       "      <td id=\"T_76276_row2_col6\" class=\"data row2 col6\" >nan</td>\n",
       "      <td id=\"T_76276_row2_col7\" class=\"data row2 col7\" >no</td>\n",
       "      <td id=\"T_76276_row2_col8\" class=\"data row2 col8\" >nan</td>\n",
       "    </tr>\n",
       "    <tr>\n",
       "      <th id=\"T_76276_level0_row3\" class=\"row_heading level0 row3\" >freq</th>\n",
       "      <td id=\"T_76276_row3_col0\" class=\"data row3 col0\" >nan</td>\n",
       "      <td id=\"T_76276_row3_col1\" class=\"data row3 col1\" >290</td>\n",
       "      <td id=\"T_76276_row3_col2\" class=\"data row3 col2\" >nan</td>\n",
       "      <td id=\"T_76276_row3_col3\" class=\"data row3 col3\" >nan</td>\n",
       "      <td id=\"T_76276_row3_col4\" class=\"data row3 col4\" >115</td>\n",
       "      <td id=\"T_76276_row3_col5\" class=\"data row3 col5\" >174</td>\n",
       "      <td id=\"T_76276_row3_col6\" class=\"data row3 col6\" >nan</td>\n",
       "      <td id=\"T_76276_row3_col7\" class=\"data row3 col7\" >209</td>\n",
       "      <td id=\"T_76276_row3_col8\" class=\"data row3 col8\" >nan</td>\n",
       "    </tr>\n",
       "    <tr>\n",
       "      <th id=\"T_76276_level0_row4\" class=\"row_heading level0 row4\" >mean</th>\n",
       "      <td id=\"T_76276_row4_col0\" class=\"data row4 col0\" >2.047468</td>\n",
       "      <td id=\"T_76276_row4_col1\" class=\"data row4 col1\" >nan</td>\n",
       "      <td id=\"T_76276_row4_col2\" class=\"data row4 col2\" >2.797468</td>\n",
       "      <td id=\"T_76276_row4_col3\" class=\"data row4 col3\" >2.547468</td>\n",
       "      <td id=\"T_76276_row4_col4\" class=\"data row4 col4\" >nan</td>\n",
       "      <td id=\"T_76276_row4_col5\" class=\"data row4 col5\" >nan</td>\n",
       "      <td id=\"T_76276_row4_col6\" class=\"data row4 col6\" >3.120253</td>\n",
       "      <td id=\"T_76276_row4_col7\" class=\"data row4 col7\" >nan</td>\n",
       "      <td id=\"T_76276_row4_col8\" class=\"data row4 col8\" >1.436709</td>\n",
       "    </tr>\n",
       "    <tr>\n",
       "      <th id=\"T_76276_level0_row5\" class=\"row_heading level0 row5\" >std</th>\n",
       "      <td id=\"T_76276_row5_col0\" class=\"data row5 col0\" >0.843816</td>\n",
       "      <td id=\"T_76276_row5_col1\" class=\"data row5 col1\" >nan</td>\n",
       "      <td id=\"T_76276_row5_col2\" class=\"data row5 col2\" >1.067616</td>\n",
       "      <td id=\"T_76276_row5_col3\" class=\"data row5 col3\" >1.090053</td>\n",
       "      <td id=\"T_76276_row5_col4\" class=\"data row5 col4\" >nan</td>\n",
       "      <td id=\"T_76276_row5_col5\" class=\"data row5 col5\" >nan</td>\n",
       "      <td id=\"T_76276_row5_col6\" class=\"data row5 col6\" >1.091715</td>\n",
       "      <td id=\"T_76276_row5_col7\" class=\"data row5 col7\" >nan</td>\n",
       "      <td id=\"T_76276_row5_col8\" class=\"data row5 col8\" >0.680182</td>\n",
       "    </tr>\n",
       "    <tr>\n",
       "      <th id=\"T_76276_level0_row6\" class=\"row_heading level0 row6\" >min</th>\n",
       "      <td id=\"T_76276_row6_col0\" class=\"data row6 col0\" >1.000000</td>\n",
       "      <td id=\"T_76276_row6_col1\" class=\"data row6 col1\" >nan</td>\n",
       "      <td id=\"T_76276_row6_col2\" class=\"data row6 col2\" >1.000000</td>\n",
       "      <td id=\"T_76276_row6_col3\" class=\"data row6 col3\" >0.000000</td>\n",
       "      <td id=\"T_76276_row6_col4\" class=\"data row6 col4\" >nan</td>\n",
       "      <td id=\"T_76276_row6_col5\" class=\"data row6 col5\" >nan</td>\n",
       "      <td id=\"T_76276_row6_col6\" class=\"data row6 col6\" >1.000000</td>\n",
       "      <td id=\"T_76276_row6_col7\" class=\"data row6 col7\" >nan</td>\n",
       "      <td id=\"T_76276_row6_col8\" class=\"data row6 col8\" >1.000000</td>\n",
       "    </tr>\n",
       "    <tr>\n",
       "      <th id=\"T_76276_level0_row7\" class=\"row_heading level0 row7\" >25%</th>\n",
       "      <td id=\"T_76276_row7_col0\" class=\"data row7 col0\" >1.000000</td>\n",
       "      <td id=\"T_76276_row7_col1\" class=\"data row7 col1\" >nan</td>\n",
       "      <td id=\"T_76276_row7_col2\" class=\"data row7 col2\" >2.000000</td>\n",
       "      <td id=\"T_76276_row7_col3\" class=\"data row7 col3\" >2.000000</td>\n",
       "      <td id=\"T_76276_row7_col4\" class=\"data row7 col4\" >nan</td>\n",
       "      <td id=\"T_76276_row7_col5\" class=\"data row7 col5\" >nan</td>\n",
       "      <td id=\"T_76276_row7_col6\" class=\"data row7 col6\" >2.000000</td>\n",
       "      <td id=\"T_76276_row7_col7\" class=\"data row7 col7\" >nan</td>\n",
       "      <td id=\"T_76276_row7_col8\" class=\"data row7 col8\" >1.000000</td>\n",
       "    </tr>\n",
       "    <tr>\n",
       "      <th id=\"T_76276_level0_row8\" class=\"row_heading level0 row8\" >50%</th>\n",
       "      <td id=\"T_76276_row8_col0\" class=\"data row8 col0\" >2.000000</td>\n",
       "      <td id=\"T_76276_row8_col1\" class=\"data row8 col1\" >nan</td>\n",
       "      <td id=\"T_76276_row8_col2\" class=\"data row8 col2\" >3.000000</td>\n",
       "      <td id=\"T_76276_row8_col3\" class=\"data row8 col3\" >2.500000</td>\n",
       "      <td id=\"T_76276_row8_col4\" class=\"data row8 col4\" >nan</td>\n",
       "      <td id=\"T_76276_row8_col5\" class=\"data row8 col5\" >nan</td>\n",
       "      <td id=\"T_76276_row8_col6\" class=\"data row8 col6\" >3.000000</td>\n",
       "      <td id=\"T_76276_row8_col7\" class=\"data row8 col7\" >nan</td>\n",
       "      <td id=\"T_76276_row8_col8\" class=\"data row8 col8\" >1.000000</td>\n",
       "    </tr>\n",
       "    <tr>\n",
       "      <th id=\"T_76276_level0_row9\" class=\"row_heading level0 row9\" >75%</th>\n",
       "      <td id=\"T_76276_row9_col0\" class=\"data row9 col0\" >2.000000</td>\n",
       "      <td id=\"T_76276_row9_col1\" class=\"data row9 col1\" >nan</td>\n",
       "      <td id=\"T_76276_row9_col2\" class=\"data row9 col2\" >4.000000</td>\n",
       "      <td id=\"T_76276_row9_col3\" class=\"data row9 col3\" >4.000000</td>\n",
       "      <td id=\"T_76276_row9_col4\" class=\"data row9 col4\" >nan</td>\n",
       "      <td id=\"T_76276_row9_col5\" class=\"data row9 col5\" >nan</td>\n",
       "      <td id=\"T_76276_row9_col6\" class=\"data row9 col6\" >4.000000</td>\n",
       "      <td id=\"T_76276_row9_col7\" class=\"data row9 col7\" >nan</td>\n",
       "      <td id=\"T_76276_row9_col8\" class=\"data row9 col8\" >2.000000</td>\n",
       "    </tr>\n",
       "    <tr>\n",
       "      <th id=\"T_76276_level0_row10\" class=\"row_heading level0 row10\" >max</th>\n",
       "      <td id=\"T_76276_row10_col0\" class=\"data row10 col0\" >4.000000</td>\n",
       "      <td id=\"T_76276_row10_col1\" class=\"data row10 col1\" >nan</td>\n",
       "      <td id=\"T_76276_row10_col2\" class=\"data row10 col2\" >4.000000</td>\n",
       "      <td id=\"T_76276_row10_col3\" class=\"data row10 col3\" >4.000000</td>\n",
       "      <td id=\"T_76276_row10_col4\" class=\"data row10 col4\" >nan</td>\n",
       "      <td id=\"T_76276_row10_col5\" class=\"data row10 col5\" >nan</td>\n",
       "      <td id=\"T_76276_row10_col6\" class=\"data row10 col6\" >5.000000</td>\n",
       "      <td id=\"T_76276_row10_col7\" class=\"data row10 col7\" >nan</td>\n",
       "      <td id=\"T_76276_row10_col8\" class=\"data row10 col8\" >4.000000</td>\n",
       "    </tr>\n",
       "  </tbody>\n",
       "</table>\n"
      ],
      "text/plain": [
       "<pandas.io.formats.style.Styler at 0x25b48489bb0>"
      ]
     },
     "execution_count": 5,
     "metadata": {},
     "output_type": "execute_result"
    }
   ],
   "source": [
    "describer = X_train.describe(include=\"all\")\n",
    "describer.style.set_caption(\"Figure 1.0. A table desplaying the most common values of each categorical variable along side percentiles of numerical variables\")"
   ]
  },
  {
   "cell_type": "markdown",
   "id": "956e2fd5-301c-4cf0-a952-f19e14bd8589",
   "metadata": {},
   "source": [
    "Using panda's describe all and styler to make a table, we can find many useful pieces of information for all of our features. For numerical features, we can see interesting pieces of info such as the average mother education is higher than the average father education. Furthermore, for categorical variables, we can see interesting info such as the most frequent parent status in our training set is that they are still living together and most people are not in a romantic relationship."
   ]
  },
  {
   "cell_type": "code",
   "execution_count": 6,
   "id": "5f06959e-7c9d-422f-9f9e-d73bac8e791e",
   "metadata": {},
   "outputs": [
    {
     "data": {
      "image/png": "[encoded data removed]",
      "text/plain": [
       "<Figure size 720x720 with 6 Axes>"
      ]
     },
     "metadata": {
      "needs_background": "light"
     },
     "output_type": "display_data"
    },
    {
     "data": {
      "text/plain": [
       "(array([[<AxesSubplot:title={'center':'study time vs grade'}>,\n",
       "         <AxesSubplot:title={'center':'Mother education vs grade'}>,\n",
       "         <AxesSubplot:title={'center':'Father education vs grade'}>],\n",
       "        [<AxesSubplot:title={'center':'time spent with friends vs grade'}>,\n",
       "         <AxesSubplot:title={'center':'travel time vs grade'}>,\n",
       "         <AxesSubplot:>]], dtype=object),\n",
       " <Figure size 720x720 with 6 Axes>)"
      ]
     },
     "execution_count": 6,
     "metadata": {},
     "output_type": "execute_result"
    }
   ],
   "source": [
    "desiredFeatures = [\"studytime\", \"Medu\", \"Fedu\", \"goout\", \"traveltime\"]\n",
    "titles = [\"study time vs grade\", \"Mother education vs grade\", \"Father education vs grade\", \n",
    "                                     \"time spent with friends vs grade\", \"travel time vs grade\"]\n",
    "txt = \"Figure 2 A series of plots examining the numeric features compared to predicted grade\"\n",
    "plotSquareData.plot_square_data(X_train, y_train, desiredFeatures, titles, txt) "
   ]
  },
  {
   "cell_type": "markdown",
   "id": "33e17daa-ab04-4f32-a9e5-9cf1e1b4c329",
   "metadata": {},
   "source": [
    "From these numeric features, we can see that for the most part, there is no relation between these features and predicted grade. The only truly interesting thing to note is that with higher travel time, it seems that the range of grades gets narrower and narrower such that the low end of the range is higher than lower values of travel time, but the high end of the range is also much lower compared to lower values of travel time. Of course, it is difficult to say whether this is true or not given the low number of samples for higher travel time."
   ]
  },
  {
   "cell_type": "code",
   "execution_count": 7,
   "id": "3a9aff76-3f3f-4231-bd6b-651d7e52836a",
   "metadata": {},
   "outputs": [
    {
     "data": {
      "image/png": "[encoded data removed]",
      "text/plain": [
       "<Figure size 720x720 with 4 Axes>"
      ]
     },
     "metadata": {
      "needs_background": "light"
     },
     "output_type": "display_data"
    },
    {
     "data": {
      "text/plain": [
       "(array([[<AxesSubplot:title={'center':'P status vs grade'}>,\n",
       "         <AxesSubplot:title={'center':'Mother job vs grade'}>],\n",
       "        [<AxesSubplot:title={'center':'Father Job vs grade'}>,\n",
       "         <AxesSubplot:title={'center':'Relationship status vs grade'}>]],\n",
       "       dtype=object),\n",
       " <Figure size 720x720 with 4 Axes>)"
      ]
     },
     "execution_count": 7,
     "metadata": {},
     "output_type": "execute_result"
    }
   ],
   "source": [
    "desiredFeatures = [\"Pstatus\", \"Mjob\", \"Fjob\", \"romantic\"]\n",
    "titles = [\"P status vs grade\", \"Mother job vs grade\", \"Father Job vs grade\", \"Relationship status vs grade\"]\n",
    "txt = \"Figure 3 A series of histograms examining the distribution of categorical features\"\n",
    "plotSquareData.plot_square_data(X_train, y_train, desiredFeatures, titles, txt)"
   ]
  },
  {
   "cell_type": "markdown",
   "id": "b9a02bc5-31a5-4bfa-9006-29cf5d3a6f7e",
   "metadata": {},
   "source": [
    "From this exploratory categorical variable analysis, we can see that for some of these variables, we have a big imbalance between classes. This is especially prominent in P status and Father job. The consequence of this is that the coefficient end up not being very useful in terms of predicting grades as, for example, P status = t may have lots of representation in high and low categories. Furthermore, given the low amount of P status = A, the model we use might misrepresent the data if all of the \"A\" values end up being either high or low grades, and not a mix of both when we apply our model to the test set.."
   ]
  },
  {
   "cell_type": "markdown",
   "id": "a61abf9b-c4f5-4205-a102-2ef388785f93",
   "metadata": {},
   "source": [
    "## Methods"
   ]
  },
  {
   "cell_type": "markdown",
   "id": "14050895-6c2e-4f59-a8a5-7bbf8496dd3e",
   "metadata": {},
   "source": [
    "Since what we are trying to predict is a quantitative varible based on several variables, it is clear we are aiming for regression analysis. Particularly, the regresion methods from DSCI 110 were knn and least square, where we think the best of the two may be least squares regression. This is namely due to the fact that we hueristically expect quite linear result from many of these variables. Within the scikit-learn package, there are a few options for least squares regression, Linear Regression and Ridge Regression. We will be using Ridge regression, which is functionally similar to linear regression, but manages the coefficients in a manner where none are exceptionally large.\n"
   ]
  },
  {
   "cell_type": "code",
   "execution_count": 8,
   "id": "1d36b365-eb92-440c-810b-5f579e3a6034",
   "metadata": {},
   "outputs": [],
   "source": [
    "#preprocess the data to make sure the scaling is correct and the categorical variables are encoded properly\n",
    "numeric_features = [\"studytime\", \"Medu\", \"Fedu\", \"goout\", \"traveltime\"]\n",
    "categorical_features = [\"Mjob\", \"Fjob\"]\n",
    "binary_features = [\"Pstatus\", \"romantic\"]\n",
    "\n",
    "preprocessor = make_column_transformer(\n",
    "    (make_pipeline(SimpleImputer(), StandardScaler()), numeric_features), \n",
    "    (make_pipeline(SimpleImputer(strategy=\"constant\", fill_value=\"missing\"), OneHotEncoder(handle_unknown=\"ignore\", sparse=False)), categorical_features),\n",
    "    (make_pipeline(SimpleImputer(strategy=\"most_frequent\"), OneHotEncoder(drop=\"if_binary\", dtype=int)), binary_features),\n",
    ")\n"
   ]
  },
  {
   "cell_type": "markdown",
   "id": "6659ca7b-9121-4c45-b5a2-338f437b84fb",
   "metadata": {},
   "source": [
    "Since we have a few categorical variables and binary variables, we need to encode the data in a manner our model can read, and we decided on one hot encoding given its simplicity. Lastly, while there is no missing data in the dataset, we thought it would be a good idea to use simple imputer in case we run into a situation were there is missing data in our test set or if we decide to use this model on another dataset with the same features."
   ]
  },
  {
   "cell_type": "code",
   "execution_count": 9,
   "id": "52206be6-fd21-4817-83cc-ed77cbbc78f9",
   "metadata": {},
   "outputs": [
    {
     "name": "stdout",
     "output_type": "stream",
     "text": [
      "{'ridge__alpha': 10.048178262485676}\n",
      "-4.6232191575980055\n"
     ]
    }
   ],
   "source": [
    "#create the pipeline to preprocess our data and apply linear regression\n",
    "pipelr = make_pipeline(preprocessor, Ridge(random_state=123))\n",
    "\n",
    "hyperparams = np.exp(np.random.uniform(-3, 3, 10))\n",
    "\n",
    "param_dist = {\"ridge__alpha\": hyperparams}\n",
    "\n",
    "rand_search = RandomizedSearchCV(pipelr, param_dist, n_jobs = -1, scoring = \"neg_root_mean_squared_error\")\n",
    "rand_search.fit(X_train, y_train)\n",
    "\n",
    "print(rand_search.best_params_)\n",
    "print(rand_search.best_score_)"
   ]
  },
  {
   "cell_type": "code",
   "execution_count": 10,
   "id": "fe816ee2-3f99-47c9-90f5-6bf1c3965e47",
   "metadata": {},
   "outputs": [
    {
     "data": {
      "text/html": [
       "<div>\n",
       "<style scoped>\n",
       "    .dataframe tbody tr th:only-of-type {\n",
       "        vertical-align: middle;\n",
       "    }\n",
       "\n",
       "    .dataframe tbody tr th {\n",
       "        vertical-align: top;\n",
       "    }\n",
       "\n",
       "    .dataframe thead th {\n",
       "        text-align: right;\n",
       "    }\n",
       "</style>\n",
       "<table border=\"1\" class=\"dataframe\">\n",
       "  <thead>\n",
       "    <tr style=\"text-align: right;\">\n",
       "      <th></th>\n",
       "      <th>mean_fit_time</th>\n",
       "      <th>std_fit_time</th>\n",
       "      <th>param_ridge__alpha</th>\n",
       "      <th>params</th>\n",
       "      <th>mean_test_score</th>\n",
       "      <th>std_test_score</th>\n",
       "      <th>rank_test_score</th>\n",
       "    </tr>\n",
       "  </thead>\n",
       "  <tbody>\n",
       "    <tr>\n",
       "      <th>1</th>\n",
       "      <td>0.025500</td>\n",
       "      <td>0.000949</td>\n",
       "      <td>4.404045</td>\n",
       "      <td>{'ridge__alpha': 4.404044724167825}</td>\n",
       "      <td>-4.641092</td>\n",
       "      <td>0.294354</td>\n",
       "      <td>2</td>\n",
       "    </tr>\n",
       "    <tr>\n",
       "      <th>2</th>\n",
       "      <td>0.025199</td>\n",
       "      <td>0.003868</td>\n",
       "      <td>3.715739</td>\n",
       "      <td>{'ridge__alpha': 3.7157390867006486}</td>\n",
       "      <td>-4.644293</td>\n",
       "      <td>0.293786</td>\n",
       "      <td>3</td>\n",
       "    </tr>\n",
       "    <tr>\n",
       "      <th>3</th>\n",
       "      <td>0.023300</td>\n",
       "      <td>0.002293</td>\n",
       "      <td>10.048178</td>\n",
       "      <td>{'ridge__alpha': 10.048178262485676}</td>\n",
       "      <td>-4.623219</td>\n",
       "      <td>0.297197</td>\n",
       "      <td>1</td>\n",
       "    </tr>\n",
       "    <tr>\n",
       "      <th>4</th>\n",
       "      <td>0.019900</td>\n",
       "      <td>0.001656</td>\n",
       "      <td>2.845597</td>\n",
       "      <td>{'ridge__alpha': 2.8455972981295665}</td>\n",
       "      <td>-4.648846</td>\n",
       "      <td>0.292938</td>\n",
       "      <td>4</td>\n",
       "    </tr>\n",
       "  </tbody>\n",
       "</table>\n",
       "</div>"
      ],
      "text/plain": [
       "   mean_fit_time  std_fit_time param_ridge__alpha  \\\n",
       "1       0.025500      0.000949           4.404045   \n",
       "2       0.025199      0.003868           3.715739   \n",
       "3       0.023300      0.002293          10.048178   \n",
       "4       0.019900      0.001656           2.845597   \n",
       "\n",
       "                                 params  mean_test_score  std_test_score  \\\n",
       "1   {'ridge__alpha': 4.404044724167825}        -4.641092        0.294354   \n",
       "2  {'ridge__alpha': 3.7157390867006486}        -4.644293        0.293786   \n",
       "3  {'ridge__alpha': 10.048178262485676}        -4.623219        0.297197   \n",
       "4  {'ridge__alpha': 2.8455972981295665}        -4.648846        0.292938   \n",
       "\n",
       "   rank_test_score  \n",
       "1                2  \n",
       "2                3  \n",
       "3                1  \n",
       "4                4  "
      ]
     },
     "execution_count": 10,
     "metadata": {},
     "output_type": "execute_result"
    }
   ],
   "source": [
    "df_results = pd.DataFrame(rand_search.cv_results_)\n",
    "df_results2 = df_results[df_results.rank_test_score < 5].drop([\"mean_score_time\",\n",
    "                                                             \"std_score_time\",\n",
    "                                                             \"split0_test_score\",\n",
    "                                                             \"split1_test_score\",\n",
    "                                                             \"split2_test_score\",\n",
    "                                                             \"split3_test_score\",\n",
    "                                                             \"split4_test_score\"], axis=1)\n",
    "df_results2"
   ]
  },
  {
   "cell_type": "markdown",
   "id": "1a16b3d7-40c5-4ea5-8fbf-f2a96bfed190",
   "metadata": {},
   "source": [
    "Ridge Regression takes in 1 hyperparameter that controls the complexity of the model. With higher levels of alpha, we have lower model complexity. We do 5 fold cross validation because it is not too computationally expensive, and we do randomizedsearch because it is better at exploring hyperparameters than gridsearch. The default scoring method of sklearn regression is R^2 score, but it found that RMSE score is easier to interpret in the context of this dataset, therefore we pass in RMSE as the scoring function. While we pass in neg RMSE, it is just as easy to interpret since we just want to look for how close the score is to 0, where the closer it is to 0, the less error it has. Thanks to scikit-learn, we have an easy method of finding out what our best performing hyperparameters are. In this case, the best performing hpyerparameter was a Ridge_alpha value of 9.93, with a mean test error of 4.623"
   ]
  },
  {
   "cell_type": "markdown",
   "id": "f11b491d-f160-45e5-b3af-e4405bd7f85a",
   "metadata": {},
   "source": [
    "## Results\n"
   ]
  },
  {
   "cell_type": "markdown",
   "id": "50ca5e99-65d1-4156-8652-99aba743d7c0",
   "metadata": {},
   "source": [
    "Now that we have our best performing hyperparameter, we can pass in the best param into our model. Then we can train that model on the entire training set and evaluate it on our testing set."
   ]
  },
  {
   "cell_type": "code",
   "execution_count": 18,
   "id": "c1950d7c-4bdb-4767-b7a5-7efba01fdf69",
   "metadata": {},
   "outputs": [
    {
     "data": {
      "text/html": [
       "<div>\n",
       "<style scoped>\n",
       "    .dataframe tbody tr th:only-of-type {\n",
       "        vertical-align: middle;\n",
       "    }\n",
       "\n",
       "    .dataframe tbody tr th {\n",
       "        vertical-align: top;\n",
       "    }\n",
       "\n",
       "    .dataframe thead th {\n",
       "        text-align: right;\n",
       "    }\n",
       "</style>\n",
       "<table border=\"1\" class=\"dataframe\">\n",
       "  <thead>\n",
       "    <tr style=\"text-align: right;\">\n",
       "      <th></th>\n",
       "      <th>mean_fit_time</th>\n",
       "      <th>std_fit_time</th>\n",
       "      <th>param_ridge__alpha</th>\n",
       "      <th>params</th>\n",
       "      <th>mean_test_score</th>\n",
       "      <th>std_test_score</th>\n",
       "      <th>rank_test_score</th>\n",
       "      <th>final score</th>\n",
       "    </tr>\n",
       "  </thead>\n",
       "  <tbody>\n",
       "    <tr>\n",
       "      <th>3</th>\n",
       "      <td>0.0233</td>\n",
       "      <td>0.002293</td>\n",
       "      <td>10.048178</td>\n",
       "      <td>{'ridge__alpha': 10.048178262485676}</td>\n",
       "      <td>-4.623219</td>\n",
       "      <td>0.297197</td>\n",
       "      <td>1</td>\n",
       "      <td>-3.844722</td>\n",
       "    </tr>\n",
       "  </tbody>\n",
       "</table>\n",
       "</div>"
      ],
      "text/plain": [
       "   mean_fit_time  std_fit_time param_ridge__alpha  \\\n",
       "3         0.0233      0.002293          10.048178   \n",
       "\n",
       "                                 params  mean_test_score  std_test_score  \\\n",
       "3  {'ridge__alpha': 10.048178262485676}        -4.623219        0.297197   \n",
       "\n",
       "   rank_test_score  final score  \n",
       "3                1    -3.844722  "
      ]
     },
     "execution_count": 18,
     "metadata": {},
     "output_type": "execute_result"
    }
   ],
   "source": [
    "pipelr2 = make_pipeline(preprocessor, Ridge(alpha = rand_search.best_params_['ridge__alpha']))\n",
    "pipelr2.fit(X_train, y_train)\n",
    "\n",
    "predicted = pipelr2.predict(X_test)\n",
    "rms = mean_squared_error(y_test, predicted, squared=False)\n",
    "df_final = df_results[df_results.rank_test_score == df_results.rank_test_score.min()].drop([\"mean_score_time\",\n",
    "                                                                                             \"std_score_time\",\n",
    "                                                                                             \"split0_test_score\",\n",
    "                                                                                             \"split1_test_score\",\n",
    "                                                                                             \"split2_test_score\",\n",
    "                                                                                             \"split3_test_score\",\n",
    "                                                                                             \"split4_test_score\"], axis=1)\n",
    "df_final[\"final score\"] = -rms\n",
    "df_final"
   ]
  },
  {
   "cell_type": "code",
   "execution_count": 20,
   "id": "edad66c0-22e0-45f4-825e-0e4bbe54b53a",
   "metadata": {},
   "outputs": [
    {
     "name": "stdout",
     "output_type": "stream",
     "text": [
      "The final RMSE error is: 3.8447223526273606\n"
     ]
    }
   ],
   "source": [
    "print(\"The final RMSE error is:\", rms) "
   ]
  },
  {
   "cell_type": "markdown",
   "id": "51a43e44-3e9c-4e72-a95b-139f52f7dcb5",
   "metadata": {},
   "source": [
    "According to our best model, our RMSE is 3.83 which is better than the value we obtained from cross validation. This suggests one of two things, 1. either our model generalized well on this new dataset, or 2. we happened to be lucky for the test set and the model wont generalize well to other datasets in practice."
   ]
  },
  {
   "cell_type": "code",
   "execution_count": 13,
   "id": "17cf7e55-9535-4ba4-8aec-5060781110be",
   "metadata": {},
   "outputs": [
    {
     "data": {
      "text/plain": [
       "Text(0.5, -0.05, 'Figure 4. A plot displaying the relation between the predicted grade and the actual grade')"
      ]
     },
     "execution_count": 13,
     "metadata": {},
     "output_type": "execute_result"
    },
    {
     "data": {
      "image/png": "[encoded data removed]",
      "text/plain": [
       "<Figure size 432x288 with 1 Axes>"
      ]
     },
     "metadata": {
      "needs_background": "light"
     },
     "output_type": "display_data"
    }
   ],
   "source": [
    "plt.title(\"Predicted Grade vs True Grade\")\n",
    "plt.scatter(y_test, predicted, alpha=0.3)\n",
    "grid = np.linspace(y_test.min(), y_test.max(), 1000)\n",
    "plt.plot(grid, grid, \"--k\")\n",
    "plt.xlabel(\"true grade\")\n",
    "plt.ylabel(\"predicted grade\")\n",
    "txt = \"Figure 4. A plot displaying the relation between the predicted grade and the actual grade\"\n",
    "plt.figtext(0.5, -0.05, txt, wrap=True, horizontalalignment='center', fontsize=12)"
   ]
  },
  {
   "cell_type": "markdown",
   "id": "a01f3d6d-1d0a-4c2d-a817-e85d43db945e",
   "metadata": {},
   "source": [
    "The regression graph shows that we predict roughly the same values no matter what the true grade of the student happens to be. Only at the very high true grades do we see the predictions start to increase, albeit marginally. The range at low values is a bit larger at about 5-12.5 while at high true grades, it is about 8-13."
   ]
  },
  {
   "cell_type": "code",
   "execution_count": 14,
   "id": "1e4f58c0-8162-4738-b0c1-04a7533fe407",
   "metadata": {},
   "outputs": [],
   "source": [
    "#ohe_columns = listfun.list_abs(preprocessor, \"pipeline-2\", \"onehotencoder\", categorical_features)\n",
    "ohe_columns = listfun.list_abs(preprocessor, \"pipeline-2\", \"onehotencoder\", categorical_features)\n",
    "ohe_columns2 = listfun.list_abs(preprocessor, \"pipeline-3\", \"onehotencoder\", binary_features)\n",
    "\n",
    "new_columns = numeric_features + ohe_columns + ohe_columns2\n",
    "\n",
    "df_coeff = pd.DataFrame(\n",
    "    data={\n",
    "        \"features\": new_columns,\n",
    "        \"coefficients\": pipelr2.named_steps[\"ridge\"].coef_,\n",
    "    }\n",
    ")"
   ]
  },
  {
   "cell_type": "code",
   "execution_count": 15,
   "id": "bfaa71ad-3376-45cc-a4c6-d1eff22b2292",
   "metadata": {},
   "outputs": [
    {
     "data": {
      "text/plain": [
       "['Pstatus_T', 'romantic_yes']"
      ]
     },
     "execution_count": 15,
     "metadata": {},
     "output_type": "execute_result"
    }
   ],
   "source": [
    "ohe_columns2"
   ]
  },
  {
   "cell_type": "code",
   "execution_count": 16,
   "id": "4f6e6810-2a99-4646-84b2-d6c56bd2796c",
   "metadata": {},
   "outputs": [
    {
     "data": {
      "text/html": [
       "<div>\n",
       "<style scoped>\n",
       "    .dataframe tbody tr th:only-of-type {\n",
       "        vertical-align: middle;\n",
       "    }\n",
       "\n",
       "    .dataframe tbody tr th {\n",
       "        vertical-align: top;\n",
       "    }\n",
       "\n",
       "    .dataframe thead th {\n",
       "        text-align: right;\n",
       "    }\n",
       "</style>\n",
       "<table border=\"1\" class=\"dataframe\">\n",
       "  <thead>\n",
       "    <tr style=\"text-align: right;\">\n",
       "      <th></th>\n",
       "      <th>features</th>\n",
       "      <th>coefficients</th>\n",
       "    </tr>\n",
       "  </thead>\n",
       "  <tbody>\n",
       "    <tr>\n",
       "      <th>1</th>\n",
       "      <td>Medu</td>\n",
       "      <td>0.877669</td>\n",
       "    </tr>\n",
       "    <tr>\n",
       "      <th>6</th>\n",
       "      <td>Mjob_health</td>\n",
       "      <td>0.870098</td>\n",
       "    </tr>\n",
       "    <tr>\n",
       "      <th>14</th>\n",
       "      <td>Fjob_teacher</td>\n",
       "      <td>0.773507</td>\n",
       "    </tr>\n",
       "    <tr>\n",
       "      <th>8</th>\n",
       "      <td>Mjob_services</td>\n",
       "      <td>0.459625</td>\n",
       "    </tr>\n",
       "    <tr>\n",
       "      <th>0</th>\n",
       "      <td>studytime</td>\n",
       "      <td>0.318796</td>\n",
       "    </tr>\n",
       "    <tr>\n",
       "      <th>...</th>\n",
       "      <td>...</td>\n",
       "      <td>...</td>\n",
       "    </tr>\n",
       "    <tr>\n",
       "      <th>9</th>\n",
       "      <td>Mjob_teacher</td>\n",
       "      <td>-0.457726</td>\n",
       "    </tr>\n",
       "    <tr>\n",
       "      <th>5</th>\n",
       "      <td>Mjob_at_home</td>\n",
       "      <td>-0.560445</td>\n",
       "    </tr>\n",
       "    <tr>\n",
       "      <th>15</th>\n",
       "      <td>Pstatus_T</td>\n",
       "      <td>-0.591030</td>\n",
       "    </tr>\n",
       "    <tr>\n",
       "      <th>3</th>\n",
       "      <td>goout</td>\n",
       "      <td>-0.622587</td>\n",
       "    </tr>\n",
       "    <tr>\n",
       "      <th>16</th>\n",
       "      <td>romantic_yes</td>\n",
       "      <td>-1.310409</td>\n",
       "    </tr>\n",
       "  </tbody>\n",
       "</table>\n",
       "<p>17 rows × 2 columns</p>\n",
       "</div>"
      ],
      "text/plain": [
       "         features  coefficients\n",
       "1            Medu      0.877669\n",
       "6     Mjob_health      0.870098\n",
       "14   Fjob_teacher      0.773507\n",
       "8   Mjob_services      0.459625\n",
       "0       studytime      0.318796\n",
       "..            ...           ...\n",
       "9    Mjob_teacher     -0.457726\n",
       "5    Mjob_at_home     -0.560445\n",
       "15      Pstatus_T     -0.591030\n",
       "3           goout     -0.622587\n",
       "16   romantic_yes     -1.310409\n",
       "\n",
       "[17 rows x 2 columns]"
      ]
     },
     "execution_count": 16,
     "metadata": {},
     "output_type": "execute_result"
    }
   ],
   "source": [
    "df_coeff.sort_values(\"coefficients\",ascending=False)"
   ]
  },
  {
   "cell_type": "markdown",
   "id": "b13f8387-b02e-4690-99d8-28622639edc6",
   "metadata": {},
   "source": [
    "Looking at what feature make the most impact in predicting high true grades, we see that the mother has a very large impact on the predicted grades. Depending on the mother's job, it can positively influence the final grade or it can negatively impact it. We also see that being in a romantic relationship seems to be the most impactful at predicting lower grades. Interestingly, study time isn't the most influential part feature despite intuition telling us that with higher study time, we would except to get higher grades."
   ]
  },
  {
   "cell_type": "markdown",
   "id": "71a1da37-a159-4030-a317-7074e089cdfc",
   "metadata": {},
   "source": [
    "## Discussion:"
   ]
  },
  {
   "cell_type": "markdown",
   "id": "b012605d-0423-4e64-9cd5-a32d83166788",
   "metadata": {},
   "source": [
    "Using the 9 features we presented above, we were able to create a linear regression model with an RMSE error of 3.83. Given the scale of the target variable (G3) is 0-20, we find that this error is very high; therefore, we find that using features predominately consisting on demographic and social factors would not lend itself well to accurately predicting grade. This high error can be seen in our regression graph, where the predictions seem to be consistent in the 5-13 range no matter what the true grade of the student is. This can be interpreted as a positive outcome, as it suggests that your performance in school is only mildly impacted by demographic (e.g. parent job) and social (e.g. romantic) factors, which means more emphasis is likely placed on how much effort you apply to the course.\n",
    "\n",
    "When examining the coefficients, this does reflect some of the finding found by Pritchard & Wilson (2003), as they found that parent's education seemed to be one of the most influential factors in predicting high grades as we see that mother's education is the third highest predictor of high grades. On the other hand, we see that this is only true of the mother's education, since the father's education level seems to be quite unimpactful. It is interesting to see how much influence the mother has when compared to the father. Given that we do not see coefficients regarding the father much in these top 5 or bottom 5 coefficients, we can say that the father doesn't have much of an impact at all unless he happens to work as a teacher. Lastly, we expected goout and romantic to have a negative correlation with your final grade as you are likely to be spending your time with your peers rather than studying. This expectation was reflected strongly in the analysis.\n",
    "\n",
    "A future question we could ask using this dataset is how effective pure academic features such as study time and number of classes failed perform when trying to predict final grade. We see that study time, while we intuitively thought would have a major positive correlation with high grades, is only the 5th highest coefficient. This suggests that it is quite possible that demographic and social factors may have a higher impact than we see from this report, such that it is absolutely required that we look at social, demographic, and academic factors at the same time. Is academic factors dominant in predicting grade or does demographic and social factors have a higher impact than it seems?\n"
   ]
  },
  {
   "cell_type": "markdown",
   "id": "29368a26-c2d1-4815-8074-ce99b989402e",
   "metadata": {},
   "source": [
    "## Citations"
   ]
  },
  {
   "cell_type": "markdown",
   "id": "2b5ebdb8-6a0e-42d0-852c-84e52f92178a",
   "metadata": {},
   "source": [
    "Cortez, P. (2014). Student Performance. UCI Machine Learning Repository."
   ]
  },
  {
   "cell_type": "markdown",
   "id": "03c8bb34-36be-4408-81b7-df41e7117445",
   "metadata": {},
   "source": [
    "Cortez,  P.,  &  Silva, A.  (2008).  Using  data  mining  to  predict  secondary school  student  performance.  15th European Concurrent Engineering Conference 2008,  ECEC 2008 - 5th  Future Business Technology Conference, FUBUTEC 2008, 2003(2000), 5–12. "
   ]
  },
  {
   "cell_type": "markdown",
   "id": "d91d2d9b-3cb2-49c3-8163-0a224bbad22c",
   "metadata": {},
   "source": [
    "Roser, M., & Ortiz-Ospina, E., (2016) - \"Global Education\". Published online at OurWorldInData.org. Retrieved from: 'https://ourworldindata.org/global-education' [Online Resource]"
   ]
  },
  {
   "cell_type": "markdown",
   "id": "28d5d3d4-c33c-4a09-b201-85011b000565",
   "metadata": {},
   "source": [
    "Pritchard, M. E., & Wilson, Gregory S. (Gregory Scott). (2003). Using emotional and social factors to predict student success. Journal of College Student Development, 44(1), 18-28. https://doi.org/10.1353/csd.2003.0008"
   ]
  }
 ],
 "metadata": {
  "kernelspec": {
   "display_name": "Python 3 (ipykernel)",
   "language": "python",
   "name": "python3"
  },
  "language_info": {
   "codemirror_mode": {
    "name": "ipython",
    "version": 3
   },
   "file_extension": ".py",
   "mimetype": "text/x-python",
   "name": "python",
   "nbconvert_exporter": "python",
   "pygments_lexer": "ipython3",
   "version": "3.9.9"
  }
 },
 "nbformat": 4,
 "nbformat_minor": 5
}
