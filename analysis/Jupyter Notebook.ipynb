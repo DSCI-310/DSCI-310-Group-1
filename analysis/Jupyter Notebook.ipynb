{
 "cells": [
  {
   "cell_type": "markdown",
   "id": "9dd839c8-86c0-497c-bef2-18ae91ae119d",
   "metadata": {},
   "source": [
    "# Methods"
   ]
  },
  {
   "cell_type": "code",
   "execution_count": 2,
   "id": "73b8b08a-9599-4ec3-b9d0-39a8664bd42f",
   "metadata": {},
   "outputs": [],
   "source": [
    "import pandas as pd"
   ]
  },
  {
   "cell_type": "markdown",
   "id": "d7e5687b-6716-4d42-a669-83b699dafdc7",
   "metadata": {},
   "source": [
    "Since what we are trying to predict is a quantitative varible based on several variables, it is clear we are aiming for regression analysis. Particularly, the regresion methods from DSCI 100 were knn and least square, where we think the best of the two may be least squares regression. This is namely due to the fact that we hueristically expect quite linear result from many of these variables. Within the scikit-learn package, there are a few options for least squares regression, Linear Regression and Ridge Regression. We will be using Ridge regression, which is functionally similar to linear regression, but manages the coefficients in a manner where none are exceptionally large.\n"
   ]
  },
  {
   "cell_type": "markdown",
   "id": "a7795d4e-6742-4041-b75b-c7b63574d352",
   "metadata": {},
   "source": [
    "As we have a few categorical variables and binary variables, we need to encode the data in a manner our model can read, and we decided on one hot encoding given its simplicity. Lastly, while there is no missing data in the dataset, we thought it would be a good idea to use simple imputer in case we run into a situation were there is missing data in our test set or if we decide to use this model on another dataset with the same features."
   ]
  },
  {
   "cell_type": "markdown",
   "id": "0d2cc791-727b-4229-bf5b-48bcfcd433bf",
   "metadata": {},
   "source": [
    "Therefore, we create the pipeline to pre-process our data and apply linear regression.\n"
   ]
  },
  {
   "cell_type": "code",
   "execution_count": 6,
   "id": "be7f230d-a099-45e2-bdf6-3543868fe789",
   "metadata": {},
   "outputs": [
    {
     "data": {
      "text/html": [
       "<div>\n",
       "<style scoped>\n",
       "    .dataframe tbody tr th:only-of-type {\n",
       "        vertical-align: middle;\n",
       "    }\n",
       "\n",
       "    .dataframe tbody tr th {\n",
       "        vertical-align: top;\n",
       "    }\n",
       "\n",
       "    .dataframe thead th {\n",
       "        text-align: right;\n",
       "    }\n",
       "</style>\n",
       "<table border=\"1\" class=\"dataframe\">\n",
       "  <thead>\n",
       "    <tr style=\"text-align: right;\">\n",
       "      <th></th>\n",
       "      <th>Unnamed: 0</th>\n",
       "      <th>mean_fit_time</th>\n",
       "      <th>std_fit_time</th>\n",
       "      <th>param_ridge__alpha</th>\n",
       "      <th>params</th>\n",
       "      <th>mean_test_score</th>\n",
       "      <th>std_test_score</th>\n",
       "      <th>rank_test_score</th>\n",
       "    </tr>\n",
       "  </thead>\n",
       "  <tbody>\n",
       "    <tr>\n",
       "      <th>0</th>\n",
       "      <td>0</td>\n",
       "      <td>0.025338</td>\n",
       "      <td>0.002374</td>\n",
       "      <td>4.837726</td>\n",
       "      <td>{'ridge__alpha': 4.837726300972129}</td>\n",
       "      <td>-4.639230</td>\n",
       "      <td>0.294674</td>\n",
       "      <td>3</td>\n",
       "    </tr>\n",
       "    <tr>\n",
       "      <th>1</th>\n",
       "      <td>1</td>\n",
       "      <td>0.030933</td>\n",
       "      <td>0.003957</td>\n",
       "      <td>7.808103</td>\n",
       "      <td>{'ridge__alpha': 7.808103103435483}</td>\n",
       "      <td>-4.628946</td>\n",
       "      <td>0.296331</td>\n",
       "      <td>2</td>\n",
       "    </tr>\n",
       "    <tr>\n",
       "      <th>2</th>\n",
       "      <td>4</td>\n",
       "      <td>0.024775</td>\n",
       "      <td>0.009861</td>\n",
       "      <td>4.328673</td>\n",
       "      <td>{'ridge__alpha': 4.3286728217547}</td>\n",
       "      <td>-4.641427</td>\n",
       "      <td>0.294295</td>\n",
       "      <td>4</td>\n",
       "    </tr>\n",
       "    <tr>\n",
       "      <th>3</th>\n",
       "      <td>8</td>\n",
       "      <td>0.018578</td>\n",
       "      <td>0.001218</td>\n",
       "      <td>14.169508</td>\n",
       "      <td>{'ridge__alpha': 14.1695082925079}</td>\n",
       "      <td>-4.615479</td>\n",
       "      <td>0.298376</td>\n",
       "      <td>1</td>\n",
       "    </tr>\n",
       "  </tbody>\n",
       "</table>\n",
       "</div>"
      ],
      "text/plain": [
       "   Unnamed: 0  mean_fit_time  std_fit_time  param_ridge__alpha  \\\n",
       "0           0       0.025338      0.002374            4.837726   \n",
       "1           1       0.030933      0.003957            7.808103   \n",
       "2           4       0.024775      0.009861            4.328673   \n",
       "3           8       0.018578      0.001218           14.169508   \n",
       "\n",
       "                                params  mean_test_score  std_test_score  \\\n",
       "0  {'ridge__alpha': 4.837726300972129}        -4.639230        0.294674   \n",
       "1  {'ridge__alpha': 7.808103103435483}        -4.628946        0.296331   \n",
       "2    {'ridge__alpha': 4.3286728217547}        -4.641427        0.294295   \n",
       "3   {'ridge__alpha': 14.1695082925079}        -4.615479        0.298376   \n",
       "\n",
       "   rank_test_score  \n",
       "0                3  \n",
       "1                2  \n",
       "2                4  \n",
       "3                1  "
      ]
     },
     "execution_count": 6,
     "metadata": {},
     "output_type": "execute_result"
    }
   ],
   "source": [
    "pd.read_csv('../results/cvtable.csv', sep = \";\")"
   ]
  },
  {
   "cell_type": "markdown",
   "id": "301feeb6-3476-4182-82ea-b908ce2be1d4",
   "metadata": {},
   "source": [
    "Ridge Regression takes in 1 hyperparameter that controls the complexity of the model. With higher levels of alpha, we have lower model complexity. We do 5 fold cross validation because it is not too computationally expensive, and we do randomizedsearch because it is better at exploring hyperparameters than gridsearch. The default scoring method of sklearn regression is R^2 score, but it found that RMSE score is easier to interpret in the context of this dataset, therefore we pass in RMSE as the scoring function. While we pass in neg RMSE, it is just as easy to interpret since we just want to look for how close the score is to 0, where the closer it is to 0, the less error it has. Thanks to scikit-learn, we have an easy method of finding out what our best performing hyperparameters are. In this case, the best performing hpyerparameter was a Ridge_alpha value of [9.93], with a mean test error of [4.623]"
   ]
  },
  {
   "cell_type": "code",
   "execution_count": null,
   "id": "91a87211-d744-4b19-89d2-ceb057a864e6",
   "metadata": {},
   "outputs": [],
   "source": []
  }
 ],
 "metadata": {
  "kernelspec": {
   "display_name": "Python 3 (ipykernel)",
   "language": "python",
   "name": "python3"
  },
  "language_info": {
   "codemirror_mode": {
    "name": "ipython",
    "version": 3
   },
   "file_extension": ".py",
   "mimetype": "text/x-python",
   "name": "python",
   "nbconvert_exporter": "python",
   "pygments_lexer": "ipython3",
   "version": "3.7.10"
  }
 },
 "nbformat": 4,
 "nbformat_minor": 5
}
