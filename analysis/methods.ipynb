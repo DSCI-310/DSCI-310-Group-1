{
 "cells": [
  {
   "cell_type": "markdown",
   "id": "9dd839c8-86c0-497c-bef2-18ae91ae119d",
   "metadata": {},
   "source": [
    "# Methods"
   ]
  },
  {
   "cell_type": "code",
   "execution_count": 21,
   "id": "73b8b08a-9599-4ec3-b9d0-39a8664bd42f",
   "metadata": {
    "tags": [
     "remove-cell"
    ]
   },
   "outputs": [],
   "source": [
    "import pandas as pd\n",
    "from myst_nb import glue"
   ]
  },
  {
   "cell_type": "markdown",
   "id": "d7e5687b-6716-4d42-a669-83b699dafdc7",
   "metadata": {},
   "source": [
    "Since what we are trying to predict is a quantitative varible based on several variables, it is clear we are aiming for regression analysis. Particularly, the regresion methods from DSCI 100 were knn and least square, where we think the best of the two may be least squares regression. This is namely due to the fact that we hueristically expect quite linear result from many of these variables. Within the scikit-learn package, there are a few options for least squares regression, Linear Regression and Ridge Regression. We will be using Ridge regression, which is functionally similar to linear regression, but manages the coefficients in a manner where none are exceptionally large.\n"
   ]
  },
  {
   "cell_type": "markdown",
   "id": "a7795d4e-6742-4041-b75b-c7b63574d352",
   "metadata": {},
   "source": [
    "As we have a few categorical variables and binary variables, we need to encode the data in a manner our model can read, and we decided on one hot encoding given its simplicity. Lastly, while there is no missing data in the dataset, we thought it would be a good idea to use simple imputer in case we run into a situation were there is missing data in our test set or if we decide to use this model on another dataset with the same features."
   ]
  },
  {
   "cell_type": "markdown",
   "id": "0d2cc791-727b-4229-bf5b-48bcfcd433bf",
   "metadata": {},
   "source": [
    "Therefore, we create the pipeline to pre-process our data and apply linear regression.\n"
   ]
  },
  {
   "cell_type": "code",
   "execution_count": 30,
   "id": "be7f230d-a099-45e2-bdf6-3543868fe789",
   "metadata": {
    "tags": [
     "remove-cell"
    ]
   },
   "outputs": [
    {
     "data": {
      "text/plain": [
       "19.727"
      ]
     },
     "metadata": {
      "scrapbook": {
       "mime_prefix": "",
       "name": "ridge_alpha"
      }
     },
     "output_type": "display_data"
    },
    {
     "data": {
      "text/plain": [
       "4.609"
      ]
     },
     "metadata": {
      "scrapbook": {
       "mime_prefix": "",
       "name": "mean_test_error"
      }
     },
     "output_type": "display_data"
    }
   ],
   "source": [
    "cvtable = pd.read_csv('../results/cvtable.csv', sep = \";\").sort_values(\"rank_test_score\",ascending=True)\n",
    "\n",
    "ridge_alpha = round(cvtable.loc[cvtable['rank_test_score'] == 1, 'param_ridge__alpha'], 3).values[0]\n",
    "mean_test_error = round(abs(cvtable.loc[cvtable['rank_test_score'] == 1, 'mean_test_score']), 3).values[0]\n",
    "\n",
    "glue('ridge_alpha', ridge_alpha)\n",
    "glue('mean_test_error', mean_test_error)"
   ]
  },
  {
   "cell_type": "code",
   "execution_count": 38,
   "id": "9eec2e93-ffd0-45b6-b0f2-68b181f61322",
   "metadata": {
    "tags": [
     "remove-input"
    ]
   },
   "outputs": [
    {
     "data": {
      "text/html": [
       "<style type=\"text/css\">\n",
       "</style>\n",
       "<table id=\"T_988f4_\">\n",
       "  <caption>Table 2. Results of Ridge Regression with 5 cross validation</caption>\n",
       "  <thead>\n",
       "    <tr>\n",
       "      <th class=\"blank level0\" >&nbsp;</th>\n",
       "      <th class=\"col_heading level0 col0\" >cv_folds</th>\n",
       "      <th class=\"col_heading level0 col1\" >mean_fit_time</th>\n",
       "      <th class=\"col_heading level0 col2\" >std_fit_time</th>\n",
       "      <th class=\"col_heading level0 col3\" >param_ridge__alpha</th>\n",
       "      <th class=\"col_heading level0 col4\" >params</th>\n",
       "      <th class=\"col_heading level0 col5\" >mean_test_score</th>\n",
       "      <th class=\"col_heading level0 col6\" >std_test_score</th>\n",
       "      <th class=\"col_heading level0 col7\" >rank_test_score</th>\n",
       "    </tr>\n",
       "  </thead>\n",
       "  <tbody>\n",
       "    <tr>\n",
       "      <th id=\"T_988f4_level0_row0\" class=\"row_heading level0 row0\" >3</th>\n",
       "      <td id=\"T_988f4_row0_col0\" class=\"data row0 col0\" >8</td>\n",
       "      <td id=\"T_988f4_row0_col1\" class=\"data row0 col1\" >0.019806</td>\n",
       "      <td id=\"T_988f4_row0_col2\" class=\"data row0 col2\" >0.004730</td>\n",
       "      <td id=\"T_988f4_row0_col3\" class=\"data row0 col3\" >19.726897</td>\n",
       "      <td id=\"T_988f4_row0_col4\" class=\"data row0 col4\" >{'ridge__alpha': 19.726897439620764}</td>\n",
       "      <td id=\"T_988f4_row0_col5\" class=\"data row0 col5\" >-4.608515</td>\n",
       "      <td id=\"T_988f4_row0_col6\" class=\"data row0 col6\" >0.299571</td>\n",
       "      <td id=\"T_988f4_row0_col7\" class=\"data row0 col7\" >1</td>\n",
       "    </tr>\n",
       "    <tr>\n",
       "      <th id=\"T_988f4_level0_row1\" class=\"row_heading level0 row1\" >2</th>\n",
       "      <td id=\"T_988f4_row1_col0\" class=\"data row1 col0\" >7</td>\n",
       "      <td id=\"T_988f4_row1_col1\" class=\"data row1 col1\" >0.017660</td>\n",
       "      <td id=\"T_988f4_row1_col2\" class=\"data row1 col2\" >0.001383</td>\n",
       "      <td id=\"T_988f4_row1_col3\" class=\"data row1 col3\" >14.589218</td>\n",
       "      <td id=\"T_988f4_row1_col4\" class=\"data row1 col4\" >{'ridge__alpha': 14.589217678747614}</td>\n",
       "      <td id=\"T_988f4_row1_col5\" class=\"data row1 col5\" >-4.614839</td>\n",
       "      <td id=\"T_988f4_row1_col6\" class=\"data row1 col6\" >0.298478</td>\n",
       "      <td id=\"T_988f4_row1_col7\" class=\"data row1 col7\" >2</td>\n",
       "    </tr>\n",
       "    <tr>\n",
       "      <th id=\"T_988f4_level0_row2\" class=\"row_heading level0 row2\" >1</th>\n",
       "      <td id=\"T_988f4_row2_col0\" class=\"data row2 col0\" >6</td>\n",
       "      <td id=\"T_988f4_row2_col1\" class=\"data row2 col1\" >0.018014</td>\n",
       "      <td id=\"T_988f4_row2_col2\" class=\"data row2 col2\" >0.000793</td>\n",
       "      <td id=\"T_988f4_row2_col3\" class=\"data row2 col3\" >0.469669</td>\n",
       "      <td id=\"T_988f4_row2_col4\" class=\"data row2 col4\" >{'ridge__alpha': 0.4696687143345901}</td>\n",
       "      <td id=\"T_988f4_row2_col5\" class=\"data row2 col5\" >-4.665356</td>\n",
       "      <td id=\"T_988f4_row2_col6\" class=\"data row2 col6\" >0.289446</td>\n",
       "      <td id=\"T_988f4_row2_col7\" class=\"data row2 col7\" >3</td>\n",
       "    </tr>\n",
       "    <tr>\n",
       "      <th id=\"T_988f4_level0_row3\" class=\"row_heading level0 row3\" >0</th>\n",
       "      <td id=\"T_988f4_row3_col0\" class=\"data row3 col0\" >2</td>\n",
       "      <td id=\"T_988f4_row3_col1\" class=\"data row3 col1\" >0.022149</td>\n",
       "      <td id=\"T_988f4_row3_col2\" class=\"data row3 col2\" >0.003229</td>\n",
       "      <td id=\"T_988f4_row3_col3\" class=\"data row3 col3\" >0.360900</td>\n",
       "      <td id=\"T_988f4_row3_col4\" class=\"data row3 col4\" >{'ridge__alpha': 0.3609003915013911}</td>\n",
       "      <td id=\"T_988f4_row3_col5\" class=\"data row3 col5\" >-4.666308</td>\n",
       "      <td id=\"T_988f4_row3_col6\" class=\"data row3 col6\" >0.289224</td>\n",
       "      <td id=\"T_988f4_row3_col7\" class=\"data row3 col7\" >4</td>\n",
       "    </tr>\n",
       "  </tbody>\n",
       "</table>\n"
      ],
      "text/plain": [
       "<pandas.io.formats.style.Styler at 0x7fc2c1921050>"
      ]
     },
     "execution_count": 38,
     "metadata": {},
     "output_type": "execute_result"
    }
   ],
   "source": [
    "cvtable\n",
    "cvtable.columns.values[0] = \"cv_folds\"\n",
    "cvtable.style.set_caption(\"Table 2. Results of Ridge Regression with 5 cross validation\")"
   ]
  },
  {
   "cell_type": "markdown",
   "id": "301feeb6-3476-4182-82ea-b908ce2be1d4",
   "metadata": {},
   "source": [
    "Ridge Regression takes in 1 hyperparameter that controls the complexity of the model. With higher levels of alpha, we have lower model complexity. We do 5 fold cross validation because it is not too computationally expensive, and we do randomizedsearch because it is better at exploring hyperparameters than gridsearch. The default scoring method of sklearn regression is R^2 score, but it found that RMSE score is easier to interpret in the context of this dataset, therefore we pass in RMSE as the scoring function. While we pass in neg RMSE, it is just as easy to interpret since we just want to look for how close the score is to 0, where the closer it is to 0, the less error it has. Thanks to scikit-learn, we have an easy method of finding out what our best performing hyperparameters are. In this case, the best performing hpyerparameter was a Ridge_alpha value of {glue:}`ridge_alpha`, with a mean test error of {glue:}`mean_test_error`."
   ]
  }
 ],
 "metadata": {
  "kernelspec": {
   "display_name": "Python 3 (ipykernel)",
   "language": "python",
   "name": "python3"
  },
  "language_info": {
   "codemirror_mode": {
    "name": "ipython",
    "version": 3
   },
   "file_extension": ".py",
   "mimetype": "text/x-python",
   "name": "python",
   "nbconvert_exporter": "python",
   "pygments_lexer": "ipython3",
   "version": "3.7.10"
  }
 },
 "nbformat": 4,
 "nbformat_minor": 5
}
