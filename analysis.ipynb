{
 "cells": [
  {
   "cell_type": "markdown",
   "id": "e1e61a74-79e1-439e-8e62-1c98dd1e97c5",
   "metadata": {},
   "source": [
    "# Predicting Final Grade"
   ]
  },
  {
   "cell_type": "code",
   "execution_count": 18,
   "id": "90ea09ad-042f-402f-8c02-0cbd49a47706",
   "metadata": {},
   "outputs": [],
   "source": [
    "import numpy\n",
    "import sklearn\n",
    "import matplotlib.pyplot as plt\n",
    "import pandas as pd"
   ]
  },
  {
   "cell_type": "markdown",
   "id": "2601e5c0-0dc5-4689-aad5-c2112b2d61e5",
   "metadata": {},
   "source": [
    "## Introduction"
   ]
  },
  {
   "cell_type": "markdown",
   "id": "3e4d66a3-2685-49d2-aadc-2674497d689a",
   "metadata": {},
   "source": [
    "For this project, we're conducting a multi-variable regression analysis on the *Student Performance* dataset.  \n",
    "We're aiming to predict a student's final grade (denoted by \"G3\" in the dataset) with several input variables.  \n",
    "\n",
    "The original dataset which was recorded on the UCI ML Repo (see citation) was  split into two individual datasets, respectively with students' final grades in Portuguese and Math. For this project, we're only focusing on the Math dataset."
   ]
  },
  {
   "cell_type": "code",
   "execution_count": 19,
   "id": "e679a623-0010-46f2-af15-16556d64fe81",
   "metadata": {},
   "outputs": [
    {
     "name": "stdout",
     "output_type": "stream",
     "text": [
      "    school sex  age address famsize Pstatus  Medu  Fedu     Mjob     Fjob  \\\n",
      "0       GP   F   18       U     GT3       A     4     4  at_home  teacher   \n",
      "..     ...  ..  ...     ...     ...     ...   ...   ...      ...      ...   \n",
      "394     MS   M   19       U     LE3       T     1     1    other  at_home   \n",
      "\n",
      "     reason guardian  traveltime  studytime  failures schoolsup famsup paid  \\\n",
      "0    course   mother           2          2         0       yes     no   no   \n",
      "..      ...      ...         ...        ...       ...       ...    ...  ...   \n",
      "394  course   father           1          1         0        no     no   no   \n",
      "\n",
      "    activities nursery higher internet romantic  famrel  freetime  goout  \\\n",
      "0           no     yes    yes       no       no       4         3      4   \n",
      "..         ...     ...    ...      ...      ...     ...       ...    ...   \n",
      "394         no     yes    yes      yes       no       3         2      3   \n",
      "\n",
      "     Dalc  Walc  health  absences  G1  G2  G3  \n",
      "0       1     1       3         6   5   6   6  \n",
      "..    ...   ...     ...       ...  ..  ..  ..  \n",
      "394     3     3       5         5   8   9   9  \n",
      "\n",
      "[395 rows x 33 columns] [0, 2]\n"
     ]
    }
   ],
   "source": [
    "df = pd.read_csv(\"data/student-mat.csv\",sep = \";\")\n",
    "pd.set_option(\"display.max_rows\", 3, \"display.max_columns\", None)\n",
    "print(df,[0,2])"
   ]
  },
  {
   "cell_type": "markdown",
   "id": "f069f189-bbd3-4b61-a609-68e3760a5845",
   "metadata": {},
   "source": [
    "## EDA"
   ]
  },
  {
   "cell_type": "markdown",
   "id": "f3e03c43-7aa1-4e1e-bf93-4fc91478dbc1",
   "metadata": {},
   "source": [
    "Since we have quite a few (namely, 30) variables to choose from, we first make a simple scatterplot to see how our target (G3) looks like comparing to a numerical variable(study time)"
   ]
  },
  {
   "cell_type": "markdown",
   "id": "a61abf9b-c4f5-4205-a102-2ef388785f93",
   "metadata": {},
   "source": [
    "## Methods"
   ]
  },
  {
   "cell_type": "markdown",
   "id": "14050895-6c2e-4f59-a8a5-7bbf8496dd3e",
   "metadata": {},
   "source": [
    "...\n"
   ]
  },
  {
   "cell_type": "markdown",
   "id": "f11b491d-f160-45e5-b3af-e4405bd7f85a",
   "metadata": {},
   "source": [
    "## Results\n"
   ]
  },
  {
   "cell_type": "markdown",
   "id": "50ca5e99-65d1-4156-8652-99aba743d7c0",
   "metadata": {},
   "source": [
    "..."
   ]
  },
  {
   "cell_type": "markdown",
   "id": "71a1da37-a159-4030-a317-7074e089cdfc",
   "metadata": {},
   "source": [
    "## Discussion:"
   ]
  },
  {
   "cell_type": "markdown",
   "id": "b012605d-0423-4e64-9cd5-a32d83166788",
   "metadata": {},
   "source": [
    "..."
   ]
  },
  {
   "cell_type": "markdown",
   "id": "29368a26-c2d1-4815-8074-ce99b989402e",
   "metadata": {},
   "source": [
    "## Citations"
   ]
  },
  {
   "cell_type": "markdown",
   "id": "2b5ebdb8-6a0e-42d0-852c-84e52f92178a",
   "metadata": {},
   "source": [
    "Cortez, Paulo. (2014). Student Performance. UCI Machine Learning Repository."
   ]
  },
  {
   "cell_type": "code",
   "execution_count": null,
   "id": "2394b303-2527-4381-a6ce-274afbbc7cce",
   "metadata": {},
   "outputs": [],
   "source": []
  }
 ],
 "metadata": {
  "kernelspec": {
   "display_name": "Python 3 (ipykernel)",
   "language": "python",
   "name": "python3"
  },
  "language_info": {
   "codemirror_mode": {
    "name": "ipython",
    "version": 3
   },
   "file_extension": ".py",
   "mimetype": "text/x-python",
   "name": "python",
   "nbconvert_exporter": "python",
   "pygments_lexer": "ipython3",
   "version": "3.9.10"
  }
 },
 "nbformat": 4,
 "nbformat_minor": 5
}
