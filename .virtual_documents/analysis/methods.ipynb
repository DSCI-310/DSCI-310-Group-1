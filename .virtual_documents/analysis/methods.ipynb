import pandas as pd
from myst_nb import glue


cvtable = pd.read_csv('../results/cvtable.csv', sep = ";").sort_values("rank_test_score",ascending=True)

ridge_alpha = round(cvtable.loc[cvtable['rank_test_score'] == 1, 'param_ridge__alpha'], 3).values[0]
mean_test_error = round(abs(cvtable.loc[cvtable['rank_test_score'] == 1, 'mean_test_score']), 3).values[0]

glue('ridge_alpha', ridge_alpha)
glue('mean_test_error', mean_test_error)


cvtable
cvtable.columns.values[0] = "cv_folds"
cvtable.style.set_caption("Table 2. Results of Ridge Regression with 5 cross validation")
