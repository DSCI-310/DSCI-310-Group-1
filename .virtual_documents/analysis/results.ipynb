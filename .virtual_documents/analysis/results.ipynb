import pandas as pd
from myst_nb import glue


finaltable = pd.read_csv('../results/finaltable.csv', sep = ";").iloc[:,1:]

rmse = round(abs(finaltable.iloc[0, 7]), 3)
glue('rmse', rmse)


finaltable.style.set_caption("Table 3. Best performing hyperparameter")


coeff = pd.read_csv('../results/coeff-table.csv', sep = ";").sort_values("coefficients", ascending=False).iloc[:,1:]
coeff.style.set_caption("Table 4. Comparing features with the measure of impact in grade prediction")
