{
 "cells": [
  {
   "cell_type": "markdown",
   "id": "9dd839c8-86c0-497c-bef2-18ae91ae119d",
   "metadata": {},
   "source": [
    "# Methods"
   ]
  },
  {
   "cell_type": "code",
   "execution_count": 21,
   "id": "73b8b08a-9599-4ec3-b9d0-39a8664bd42f",
   "metadata": {
    "tags": [
     "remove-cell"
    ]
   },
   "outputs": [],
   "source": [
    "import pandas as pd\n",
    "from myst_nb import glue"
   ]
  },
  {
   "cell_type": "markdown",
   "id": "d7e5687b-6716-4d42-a669-83b699dafdc7",
   "metadata": {},
   "source": [
    "Since what we are trying to predict is a quantitative varible based on several variables, it is clear we are aiming for regression analysis. Particularly, the regresion methods from DSCI 100 were knn and least square, where we think the best of the two may be least squares regression. This is namely due to the fact that we hueristically expect quite linear result from many of these variables. Within the scikit-learn package, there are a few options for least squares regression, Linear Regression and Ridge Regression. We will be using Ridge regression, which is functionally similar to linear regression, but manages the coefficients in a manner where none are exceptionally large.\n"
   ]
  },
  {
   "cell_type": "markdown",
   "id": "a7795d4e-6742-4041-b75b-c7b63574d352",
   "metadata": {},
   "source": [
    "As we have a few categorical variables and binary variables, we need to encode the data in a manner our model can read, and we decided on one hot encoding given its simplicity. Lastly, while there is no missing data in the dataset, we thought it would be a good idea to use simple imputer in case we run into a situation were there is missing data in our test set or if we decide to use this model on another dataset with the same features."
   ]
  },
  {
   "cell_type": "markdown",
   "id": "0d2cc791-727b-4229-bf5b-48bcfcd433bf",
   "metadata": {},
   "source": [
    "Therefore, we create the pipeline to pre-process our data and apply linear regression.\n"
   ]
  },
  {
   "cell_type": "code",
   "execution_count": 30,
   "id": "be7f230d-a099-45e2-bdf6-3543868fe789",
   "metadata": {
    "tags": [
     "remove-cell"
    ]
   },
   "outputs": [
    {
     "data": {
      "text/plain": [
       "19.727"
      ]
     },
     "metadata": {
      "scrapbook": {
       "mime_prefix": "",
       "name": "ridge_alpha"
      }
     },
     "output_type": "display_data"
    },
    {
     "data": {
      "text/plain": [
       "4.609"
      ]
     },
     "metadata": {
      "scrapbook": {
       "mime_prefix": "",
       "name": "mean_test_error"
      }
     },
     "output_type": "display_data"
    }
   ],
   "source": [
    "cvtable = pd.read_csv('../results/cvtable.csv', sep = \";\").sort_values(\"rank_test_score\",ascending=True)\n",
    "\n",
    "ridge_alpha = round(cvtable.loc[cvtable['rank_test_score'] == 1, 'param_ridge__alpha'], 3).values[0]\n",
    "mean_test_error = round(abs(cvtable.loc[cvtable['rank_test_score'] == 1, 'mean_test_score']), 3).values[0]\n",
    "\n",
    "glue('ridge_alpha', ridge_alpha)\n",
    "glue('mean_test_error', mean_test_error)"
   ]
  },
  {
   "cell_type": "code",
   "execution_count": 31,
   "id": "9eec2e93-ffd0-45b6-b0f2-68b181f61322",
   "metadata": {
    "tags": [
     "remove-input"
    ]
   },
   "outputs": [
    {
     "data": {
      "text/html": [
       "<div>\n",
       "<style scoped>\n",
       "    .dataframe tbody tr th:only-of-type {\n",
       "        vertical-align: middle;\n",
       "    }\n",
       "\n",
       "    .dataframe tbody tr th {\n",
       "        vertical-align: top;\n",
       "    }\n",
       "\n",
       "    .dataframe thead th {\n",
       "        text-align: right;\n",
       "    }\n",
       "</style>\n",
       "<table border=\"1\" class=\"dataframe\">\n",
       "  <thead>\n",
       "    <tr style=\"text-align: right;\">\n",
       "      <th></th>\n",
       "      <th>Unnamed: 0</th>\n",
       "      <th>mean_fit_time</th>\n",
       "      <th>std_fit_time</th>\n",
       "      <th>param_ridge__alpha</th>\n",
       "      <th>params</th>\n",
       "      <th>mean_test_score</th>\n",
       "      <th>std_test_score</th>\n",
       "      <th>rank_test_score</th>\n",
       "    </tr>\n",
       "  </thead>\n",
       "  <tbody>\n",
       "    <tr>\n",
       "      <th>3</th>\n",
       "      <td>8</td>\n",
       "      <td>0.019806</td>\n",
       "      <td>0.004730</td>\n",
       "      <td>19.726897</td>\n",
       "      <td>{'ridge__alpha': 19.726897439620764}</td>\n",
       "      <td>-4.608515</td>\n",
       "      <td>0.299571</td>\n",
       "      <td>1</td>\n",
       "    </tr>\n",
       "    <tr>\n",
       "      <th>2</th>\n",
       "      <td>7</td>\n",
       "      <td>0.017660</td>\n",
       "      <td>0.001383</td>\n",
       "      <td>14.589218</td>\n",
       "      <td>{'ridge__alpha': 14.589217678747614}</td>\n",
       "      <td>-4.614839</td>\n",
       "      <td>0.298478</td>\n",
       "      <td>2</td>\n",
       "    </tr>\n",
       "    <tr>\n",
       "      <th>1</th>\n",
       "      <td>6</td>\n",
       "      <td>0.018014</td>\n",
       "      <td>0.000793</td>\n",
       "      <td>0.469669</td>\n",
       "      <td>{'ridge__alpha': 0.4696687143345901}</td>\n",
       "      <td>-4.665356</td>\n",
       "      <td>0.289446</td>\n",
       "      <td>3</td>\n",
       "    </tr>\n",
       "    <tr>\n",
       "      <th>0</th>\n",
       "      <td>2</td>\n",
       "      <td>0.022149</td>\n",
       "      <td>0.003229</td>\n",
       "      <td>0.360900</td>\n",
       "      <td>{'ridge__alpha': 0.3609003915013911}</td>\n",
       "      <td>-4.666308</td>\n",
       "      <td>0.289224</td>\n",
       "      <td>4</td>\n",
       "    </tr>\n",
       "  </tbody>\n",
       "</table>\n",
       "</div>"
      ],
      "text/plain": [
       "   Unnamed: 0  mean_fit_time  std_fit_time  param_ridge__alpha  \\\n",
       "3           8       0.019806      0.004730           19.726897   \n",
       "2           7       0.017660      0.001383           14.589218   \n",
       "1           6       0.018014      0.000793            0.469669   \n",
       "0           2       0.022149      0.003229            0.360900   \n",
       "\n",
       "                                 params  mean_test_score  std_test_score  \\\n",
       "3  {'ridge__alpha': 19.726897439620764}        -4.608515        0.299571   \n",
       "2  {'ridge__alpha': 14.589217678747614}        -4.614839        0.298478   \n",
       "1  {'ridge__alpha': 0.4696687143345901}        -4.665356        0.289446   \n",
       "0  {'ridge__alpha': 0.3609003915013911}        -4.666308        0.289224   \n",
       "\n",
       "   rank_test_score  \n",
       "3                1  \n",
       "2                2  \n",
       "1                3  \n",
       "0                4  "
      ]
     },
     "execution_count": 31,
     "metadata": {},
     "output_type": "execute_result"
    }
   ],
   "source": [
    "cvtable"
   ]
  },
  {
   "cell_type": "markdown",
   "id": "301feeb6-3476-4182-82ea-b908ce2be1d4",
   "metadata": {},
   "source": [
    "Ridge Regression takes in 1 hyperparameter that controls the complexity of the model. With higher levels of alpha, we have lower model complexity. We do 5 fold cross validation because it is not too computationally expensive, and we do randomizedsearch because it is better at exploring hyperparameters than gridsearch. The default scoring method of sklearn regression is R^2 score, but it found that RMSE score is easier to interpret in the context of this dataset, therefore we pass in RMSE as the scoring function. While we pass in neg RMSE, it is just as easy to interpret since we just want to look for how close the score is to 0, where the closer it is to 0, the less error it has. Thanks to scikit-learn, we have an easy method of finding out what our best performing hyperparameters are. In this case, the best performing hpyerparameter was a Ridge_alpha value of {glue:}`ridge_alpha`, with a mean test error of {glue:}`mean_test_error`."
   ]
  }
 ],
 "metadata": {
  "kernelspec": {
   "display_name": "Python 3 (ipykernel)",
   "language": "python",
   "name": "python3"
  },
  "language_info": {
   "codemirror_mode": {
    "name": "ipython",
    "version": 3
   },
   "file_extension": ".py",
   "mimetype": "text/x-python",
   "name": "python",
   "nbconvert_exporter": "python",
   "pygments_lexer": "ipython3",
   "version": "3.7.10"
  }
 },
 "nbformat": 4,
 "nbformat_minor": 5
}
