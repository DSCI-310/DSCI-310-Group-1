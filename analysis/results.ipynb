{
 "cells": [
  {
   "cell_type": "markdown",
   "id": "13b76110",
   "metadata": {},
   "source": [
    "# Results"
   ]
  },
  {
   "cell_type": "code",
   "execution_count": 3,
   "id": "17f48afa-6084-43c8-a3e0-bd71445161ff",
   "metadata": {
    "tags": [
     "remove-cell"
    ]
   },
   "outputs": [],
   "source": [
    "import pandas as pd\n",
    "from myst_nb import glue"
   ]
  },
  {
   "cell_type": "markdown",
   "id": "d9897047-dac3-49f2-aa16-f2db451635e6",
   "metadata": {},
   "source": [
    "Now that we have our best performing hyperparameter, we can pass in the best param into our model. Then we can train that model on the entire training set and evaluate it on our testing set."
   ]
  },
  {
   "cell_type": "code",
   "execution_count": 35,
   "id": "a4288a31-d8b9-46e5-b875-eeb1a244afce",
   "metadata": {
    "tags": [
     "remove-cell"
    ]
   },
   "outputs": [
    {
     "data": {
      "text/plain": [
       "3.823"
      ]
     },
     "metadata": {
      "scrapbook": {
       "mime_prefix": "",
       "name": "rmse"
      }
     },
     "output_type": "display_data"
    }
   ],
   "source": [
    "finaltable = pd.read_csv('../results/finaltable.csv', sep = \";\").iloc[:,1:]\n",
    "\n",
    "rmse = round(abs(finaltable.iloc[0, 7]), 3)\n",
    "glue('rmse', rmse)"
   ]
  },
  {
   "cell_type": "code",
   "execution_count": 37,
   "id": "32c67beb-f976-4920-a767-0e8d0d0299b7",
   "metadata": {
    "tags": [
     "remove-input"
    ]
   },
   "outputs": [
    {
     "data": {
      "text/html": [
       "<style type=\"text/css\">\n",
       "</style>\n",
       "<table id=\"T_47f1e_\">\n",
       "  <caption>Table 3. Best performing hyperparameter</caption>\n",
       "  <thead>\n",
       "    <tr>\n",
       "      <th class=\"blank level0\" >&nbsp;</th>\n",
       "      <th class=\"col_heading level0 col0\" >mean_fit_time</th>\n",
       "      <th class=\"col_heading level0 col1\" >std_fit_time</th>\n",
       "      <th class=\"col_heading level0 col2\" >param_ridge__alpha</th>\n",
       "      <th class=\"col_heading level0 col3\" >params</th>\n",
       "      <th class=\"col_heading level0 col4\" >mean_test_score</th>\n",
       "      <th class=\"col_heading level0 col5\" >std_test_score</th>\n",
       "      <th class=\"col_heading level0 col6\" >rank_test_score</th>\n",
       "      <th class=\"col_heading level0 col7\" >final score</th>\n",
       "    </tr>\n",
       "  </thead>\n",
       "  <tbody>\n",
       "    <tr>\n",
       "      <th id=\"T_47f1e_level0_row0\" class=\"row_heading level0 row0\" >0</th>\n",
       "      <td id=\"T_47f1e_row0_col0\" class=\"data row0 col0\" >0.019806</td>\n",
       "      <td id=\"T_47f1e_row0_col1\" class=\"data row0 col1\" >0.004730</td>\n",
       "      <td id=\"T_47f1e_row0_col2\" class=\"data row0 col2\" >19.726897</td>\n",
       "      <td id=\"T_47f1e_row0_col3\" class=\"data row0 col3\" >{'ridge__alpha': 19.726897439620764}</td>\n",
       "      <td id=\"T_47f1e_row0_col4\" class=\"data row0 col4\" >-4.608515</td>\n",
       "      <td id=\"T_47f1e_row0_col5\" class=\"data row0 col5\" >0.299571</td>\n",
       "      <td id=\"T_47f1e_row0_col6\" class=\"data row0 col6\" >1</td>\n",
       "      <td id=\"T_47f1e_row0_col7\" class=\"data row0 col7\" >-3.823311</td>\n",
       "    </tr>\n",
       "  </tbody>\n",
       "</table>\n"
      ],
      "text/plain": [
       "<pandas.io.formats.style.Styler at 0x7fd5d68fb650>"
      ]
     },
     "execution_count": 37,
     "metadata": {},
     "output_type": "execute_result"
    }
   ],
   "source": [
    "finaltable.style.set_caption(\"Table 3. Best performing hyperparameter\")"
   ]
  },
  {
   "cell_type": "markdown",
   "id": "872696cb-8022-4925-8038-f52851469a0a",
   "metadata": {},
   "source": [
    "According to our best model, our RMSE is {glue:}`rmse` which is better than the value we obtained from cross validation. This suggests one of two things:\n",
    "1. Our model generalized well on this new dataset, or \n",
    "2. We happened to be lucky for the test set and the model wont generalize well to other datasets in practice."
   ]
  },
  {
   "cell_type": "markdown",
   "id": "f87efcc8-88f7-42c1-97c4-de2314011681",
   "metadata": {},
   "source": [
    ":::{figure-md} relation-fig\n",
    "<img src=\"../results/figures/predvsfinal.png\" alt=\"cat\" class=\"bg-primary mb-1\" width=\"400px\">\n",
    "\n",
    "A plot displaying the relation between the predicted grade and the actual grade\n",
    ":::"
   ]
  },
  {
   "cell_type": "markdown",
   "id": "785170ba-d2a9-48d8-af27-595f19490537",
   "metadata": {},
   "source": [
    "The regression graph {numref}`relation-fig` shows that we predict roughly the same values no matter what the true grade of the student happens to be. Only at the very high true grades do we see the predictions start to increase, albeit marginally. The range at low values is a bit larger at about 5-12.5 while at high true grades, it is about 8-13."
   ]
  },
  {
   "cell_type": "markdown",
   "id": "3a5fb732-021a-49bb-a49b-b4d807d46754",
   "metadata": {},
   "source": [
    "Looking at what feature make the most impact in predicting high true grades, we see that the mother has a very large impact on the predicted grades. Depending on the mother's job, it can positively influence the final grade or it can negatively impact it. We also see that being in a romantic relationship seems to be the most impactful at predicting lower grades. Interestingly, study time isn't the most influential part feature despite intuition telling us that with higher study time, we would except to get higher grades."
   ]
  },
  {
   "cell_type": "code",
   "execution_count": 27,
   "id": "b3f76894-9275-4b67-afad-94c8e1ec7b13",
   "metadata": {
    "tags": [
     "remove-input"
    ]
   },
   "outputs": [
    {
     "data": {
      "text/html": [
       "<style type=\"text/css\">\n",
       "</style>\n",
       "<table id=\"T_8249c_\">\n",
       "  <caption>Table 3. Comparing features with the measure of impact in grade prediction</caption>\n",
       "  <thead>\n",
       "    <tr>\n",
       "      <th class=\"blank level0\" >&nbsp;</th>\n",
       "      <th class=\"col_heading level0 col0\" >features</th>\n",
       "      <th class=\"col_heading level0 col1\" >coefficients</th>\n",
       "    </tr>\n",
       "  </thead>\n",
       "  <tbody>\n",
       "    <tr>\n",
       "      <th id=\"T_8249c_level0_row0\" class=\"row_heading level0 row0\" >0</th>\n",
       "      <td id=\"T_8249c_row0_col0\" class=\"data row0 col0\" >Medu</td>\n",
       "      <td id=\"T_8249c_row0_col1\" class=\"data row0 col1\" >0.859685</td>\n",
       "    </tr>\n",
       "    <tr>\n",
       "      <th id=\"T_8249c_level0_row1\" class=\"row_heading level0 row1\" >1</th>\n",
       "      <td id=\"T_8249c_row1_col0\" class=\"data row1 col0\" >Mjob_health</td>\n",
       "      <td id=\"T_8249c_row1_col1\" class=\"data row1 col1\" >0.693181</td>\n",
       "    </tr>\n",
       "    <tr>\n",
       "      <th id=\"T_8249c_level0_row2\" class=\"row_heading level0 row2\" >2</th>\n",
       "      <td id=\"T_8249c_row2_col0\" class=\"data row2 col0\" >Fjob_teacher</td>\n",
       "      <td id=\"T_8249c_row2_col1\" class=\"data row2 col1\" >0.594668</td>\n",
       "    </tr>\n",
       "    <tr>\n",
       "      <th id=\"T_8249c_level0_row3\" class=\"row_heading level0 row3\" >3</th>\n",
       "      <td id=\"T_8249c_row3_col0\" class=\"data row3 col0\" >Mjob_services</td>\n",
       "      <td id=\"T_8249c_row3_col1\" class=\"data row3 col1\" >0.434356</td>\n",
       "    </tr>\n",
       "    <tr>\n",
       "      <th id=\"T_8249c_level0_row4\" class=\"row_heading level0 row4\" >4</th>\n",
       "      <td id=\"T_8249c_row4_col0\" class=\"data row4 col0\" >studytime</td>\n",
       "      <td id=\"T_8249c_row4_col1\" class=\"data row4 col1\" >0.305721</td>\n",
       "    </tr>\n",
       "    <tr>\n",
       "      <th id=\"T_8249c_level0_row5\" class=\"row_heading level0 row5\" >5</th>\n",
       "      <td id=\"T_8249c_row5_col0\" class=\"data row5 col0\" >Fedu</td>\n",
       "      <td id=\"T_8249c_row5_col1\" class=\"data row5 col1\" >0.158614</td>\n",
       "    </tr>\n",
       "    <tr>\n",
       "      <th id=\"T_8249c_level0_row6\" class=\"row_heading level0 row6\" >6</th>\n",
       "      <td id=\"T_8249c_row6_col0\" class=\"data row6 col0\" >Fjob_health</td>\n",
       "      <td id=\"T_8249c_row6_col1\" class=\"data row6 col1\" >-0.038761</td>\n",
       "    </tr>\n",
       "    <tr>\n",
       "      <th id=\"T_8249c_level0_row7\" class=\"row_heading level0 row7\" >7</th>\n",
       "      <td id=\"T_8249c_row7_col0\" class=\"data row7 col0\" >Fjob_services</td>\n",
       "      <td id=\"T_8249c_row7_col1\" class=\"data row7 col1\" >-0.133804</td>\n",
       "    </tr>\n",
       "    <tr>\n",
       "      <th id=\"T_8249c_level0_row8\" class=\"row_heading level0 row8\" >8</th>\n",
       "      <td id=\"T_8249c_row8_col0\" class=\"data row8 col0\" >Fjob_at_home</td>\n",
       "      <td id=\"T_8249c_row8_col1\" class=\"data row8 col1\" >-0.181525</td>\n",
       "    </tr>\n",
       "    <tr>\n",
       "      <th id=\"T_8249c_level0_row9\" class=\"row_heading level0 row9\" >9</th>\n",
       "      <td id=\"T_8249c_row9_col0\" class=\"data row9 col0\" >traveltime</td>\n",
       "      <td id=\"T_8249c_row9_col1\" class=\"data row9 col1\" >-0.231193</td>\n",
       "    </tr>\n",
       "    <tr>\n",
       "      <th id=\"T_8249c_level0_row10\" class=\"row_heading level0 row10\" >10</th>\n",
       "      <td id=\"T_8249c_row10_col0\" class=\"data row10 col0\" >Fjob_other</td>\n",
       "      <td id=\"T_8249c_row10_col1\" class=\"data row10 col1\" >-0.240578</td>\n",
       "    </tr>\n",
       "    <tr>\n",
       "      <th id=\"T_8249c_level0_row11\" class=\"row_heading level0 row11\" >11</th>\n",
       "      <td id=\"T_8249c_row11_col0\" class=\"data row11 col0\" >Mjob_other</td>\n",
       "      <td id=\"T_8249c_row11_col1\" class=\"data row11 col1\" >-0.284648</td>\n",
       "    </tr>\n",
       "    <tr>\n",
       "      <th id=\"T_8249c_level0_row12\" class=\"row_heading level0 row12\" >12</th>\n",
       "      <td id=\"T_8249c_row12_col0\" class=\"data row12 col0\" >Mjob_teacher</td>\n",
       "      <td id=\"T_8249c_row12_col1\" class=\"data row12 col1\" >-0.357238</td>\n",
       "    </tr>\n",
       "    <tr>\n",
       "      <th id=\"T_8249c_level0_row13\" class=\"row_heading level0 row13\" >13</th>\n",
       "      <td id=\"T_8249c_row13_col0\" class=\"data row13 col0\" >Pstatus_T</td>\n",
       "      <td id=\"T_8249c_row13_col1\" class=\"data row13 col1\" >-0.448467</td>\n",
       "    </tr>\n",
       "    <tr>\n",
       "      <th id=\"T_8249c_level0_row14\" class=\"row_heading level0 row14\" >14</th>\n",
       "      <td id=\"T_8249c_row14_col0\" class=\"data row14 col0\" >Mjob_at_home</td>\n",
       "      <td id=\"T_8249c_row14_col1\" class=\"data row14 col1\" >-0.485651</td>\n",
       "    </tr>\n",
       "    <tr>\n",
       "      <th id=\"T_8249c_level0_row15\" class=\"row_heading level0 row15\" >15</th>\n",
       "      <td id=\"T_8249c_row15_col0\" class=\"data row15 col0\" >goout</td>\n",
       "      <td id=\"T_8249c_row15_col1\" class=\"data row15 col1\" >-0.602007</td>\n",
       "    </tr>\n",
       "    <tr>\n",
       "      <th id=\"T_8249c_level0_row16\" class=\"row_heading level0 row16\" >16</th>\n",
       "      <td id=\"T_8249c_row16_col0\" class=\"data row16 col0\" >romantic_yes</td>\n",
       "      <td id=\"T_8249c_row16_col1\" class=\"data row16 col1\" >-1.165705</td>\n",
       "    </tr>\n",
       "  </tbody>\n",
       "</table>\n"
      ],
      "text/plain": [
       "<pandas.io.formats.style.Styler at 0x7fd5d6409d10>"
      ]
     },
     "execution_count": 27,
     "metadata": {},
     "output_type": "execute_result"
    }
   ],
   "source": [
    "coeff = pd.read_csv('../results/coeff-table.csv', sep = \";\").sort_values(\"coefficients\", ascending=False).iloc[:,1:]\n",
    "coeff.style.set_caption(\"Table 4. Comparing features with the measure of impact in grade prediction\")"
   ]
  }
 ],
 "metadata": {
  "kernelspec": {
   "display_name": "Python 3 (ipykernel)",
   "language": "python",
   "name": "python3"
  },
  "language_info": {
   "codemirror_mode": {
    "name": "ipython",
    "version": 3
   },
   "file_extension": ".py",
   "mimetype": "text/x-python",
   "name": "python",
   "nbconvert_exporter": "python",
   "pygments_lexer": "ipython3",
   "version": "3.7.10"
  }
 },
 "nbformat": 4,
 "nbformat_minor": 5
}
